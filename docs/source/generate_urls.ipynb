{
 "cells": [
  {
   "cell_type": "raw",
   "metadata": {
    "raw_mimetype": "text/restructuredtext"
   },
   "source": [
    "Generating CATMAID URLs\n",
    "-----------------------\n",
    "\n",
    "This example will demonstrate how to use pymaid to generate URLs to a set of connectors. You can use this, for example, to perform random sampling of up- or downstream partners."
   ]
  },
  {
   "cell_type": "code",
   "execution_count": 4,
   "metadata": {},
   "outputs": [],
   "source": [
    "import pymaid\n",
    "\n",
    "rm = pymaid.CatmaidInstance('server_url', 'http_user', 'http_pw', 'token')"
   ]
  },
  {
   "cell_type": "raw",
   "metadata": {
    "raw_mimetype": "text/restructuredtext"
   },
   "source": [
    "First get your neuron of interest:"
   ]
  },
  {
   "cell_type": "code",
   "execution_count": 3,
   "metadata": {},
   "outputs": [],
   "source": [
    "n = pymaid.get_neuron(16)"
   ]
  },
  {
   "cell_type": "raw",
   "metadata": {
    "raw_mimetype": "text/restructuredtext"
   },
   "source": [
    "Next extract the connectors and add a URL column:"
   ]
  },
  {
   "cell_type": "code",
   "execution_count": 6,
   "metadata": {},
   "outputs": [
    {
     "data": {
      "text/html": [
       "<div>\n",
       "<style scoped>\n",
       "    .dataframe tbody tr th:only-of-type {\n",
       "        vertical-align: middle;\n",
       "    }\n",
       "\n",
       "    .dataframe tbody tr th {\n",
       "        vertical-align: top;\n",
       "    }\n",
       "\n",
       "    .dataframe thead th {\n",
       "        text-align: right;\n",
       "    }\n",
       "</style>\n",
       "<table border=\"1\" class=\"dataframe\">\n",
       "  <thead>\n",
       "    <tr style=\"text-align: right;\">\n",
       "      <th></th>\n",
       "      <th>treenode_id</th>\n",
       "      <th>connector_id</th>\n",
       "      <th>relation</th>\n",
       "      <th>x</th>\n",
       "      <th>y</th>\n",
       "      <th>z</th>\n",
       "      <th>URL</th>\n",
       "    </tr>\n",
       "  </thead>\n",
       "  <tbody>\n",
       "    <tr>\n",
       "      <th>0</th>\n",
       "      <td>127234</td>\n",
       "      <td>999188</td>\n",
       "      <td>0</td>\n",
       "      <td>438818</td>\n",
       "      <td>164258</td>\n",
       "      <td>217440</td>\n",
       "      <td>https://neuropil.janelia.org/tracing/fafb/v14/...</td>\n",
       "    </tr>\n",
       "    <tr>\n",
       "      <th>1</th>\n",
       "      <td>2591</td>\n",
       "      <td>97954</td>\n",
       "      <td>0</td>\n",
       "      <td>437120</td>\n",
       "      <td>160998</td>\n",
       "      <td>211920</td>\n",
       "      <td>https://neuropil.janelia.org/tracing/fafb/v14/...</td>\n",
       "    </tr>\n",
       "    <tr>\n",
       "      <th>2</th>\n",
       "      <td>2665</td>\n",
       "      <td>98300</td>\n",
       "      <td>0</td>\n",
       "      <td>437184</td>\n",
       "      <td>162324</td>\n",
       "      <td>214880</td>\n",
       "      <td>https://neuropil.janelia.org/tracing/fafb/v14/...</td>\n",
       "    </tr>\n",
       "    <tr>\n",
       "      <th>3</th>\n",
       "      <td>2646</td>\n",
       "      <td>98373</td>\n",
       "      <td>0</td>\n",
       "      <td>437042</td>\n",
       "      <td>162452</td>\n",
       "      <td>214120</td>\n",
       "      <td>https://neuropil.janelia.org/tracing/fafb/v14/...</td>\n",
       "    </tr>\n",
       "    <tr>\n",
       "      <th>4</th>\n",
       "      <td>2654</td>\n",
       "      <td>98415</td>\n",
       "      <td>0</td>\n",
       "      <td>436761</td>\n",
       "      <td>163690</td>\n",
       "      <td>214440</td>\n",
       "      <td>https://neuropil.janelia.org/tracing/fafb/v14/...</td>\n",
       "    </tr>\n",
       "  </tbody>\n",
       "</table>\n",
       "</div>"
      ],
      "text/plain": [
       "   treenode_id  connector_id  relation       x       y       z  \\\n",
       "0       127234        999188         0  438818  164258  217440   \n",
       "1         2591         97954         0  437120  160998  211920   \n",
       "2         2665         98300         0  437184  162324  214880   \n",
       "3         2646         98373         0  437042  162452  214120   \n",
       "4         2654         98415         0  436761  163690  214440   \n",
       "\n",
       "                                                 URL  \n",
       "0  https://neuropil.janelia.org/tracing/fafb/v14/...  \n",
       "1  https://neuropil.janelia.org/tracing/fafb/v14/...  \n",
       "2  https://neuropil.janelia.org/tracing/fafb/v14/...  \n",
       "3  https://neuropil.janelia.org/tracing/fafb/v14/...  \n",
       "4  https://neuropil.janelia.org/tracing/fafb/v14/...  "
      ]
     },
     "execution_count": 6,
     "metadata": {},
     "output_type": "execute_result"
    }
   ],
   "source": [
    "cn = n.connectors\n",
    "\n",
    "cn['URL'] = pymaid.url_to_coordinates(cn, \n",
    "                                      stack_id = 5,\n",
    "                                      active_node_id = cn.connector_id.values\n",
    "                                      )\n",
    "cn.head()"
   ]
  },
  {
   "cell_type": "raw",
   "metadata": {
    "raw_mimetype": "text/restructuredtext"
   },
   "source": [
    "In above example we are using ``stack_id = 5``. This is the ID of your image mirror and is encoded in the URL as ``sid0=5``. Depending on what your fastest mirror is, you might want to change this. \n",
    "\n",
    "Now you can export this DataFrame. Two quick examples.\n",
    "\n",
    "To CSV:"
   ]
  },
  {
   "cell_type": "code",
   "execution_count": 8,
   "metadata": {},
   "outputs": [],
   "source": [
    "cn.to_csv('filename.csv')"
   ]
  },
  {
   "cell_type": "raw",
   "metadata": {
    "raw_mimetype": "text/restructuredtext"
   },
   "source": [
    "To clipboard:"
   ]
  },
  {
   "cell_type": "code",
   "execution_count": 9,
   "metadata": {},
   "outputs": [],
   "source": [
    "cn.to_clipboard()"
   ]
  },
  {
   "cell_type": "raw",
   "metadata": {
    "raw_mimetype": "text/restructuredtext"
   },
   "source": [
    "Randomizing\n",
    "===========\n",
    "Randomizing the order e.g. for random sampling of downstream partners is straight forward:\n",
    "\n",
    "Subset to presynapses:"
   ]
  },
  {
   "cell_type": "code",
   "execution_count": 10,
   "metadata": {},
   "outputs": [],
   "source": [
    "pre = cn[cn.relation == 0]"
   ]
  },
  {
   "cell_type": "raw",
   "metadata": {
    "raw_mimetype": "text/restructuredtext"
   },
   "source": [
    "Randomize order:"
   ]
  },
  {
   "cell_type": "code",
   "execution_count": 11,
   "metadata": {},
   "outputs": [
    {
     "data": {
      "text/html": [
       "<div>\n",
       "<style scoped>\n",
       "    .dataframe tbody tr th:only-of-type {\n",
       "        vertical-align: middle;\n",
       "    }\n",
       "\n",
       "    .dataframe tbody tr th {\n",
       "        vertical-align: top;\n",
       "    }\n",
       "\n",
       "    .dataframe thead th {\n",
       "        text-align: right;\n",
       "    }\n",
       "</style>\n",
       "<table border=\"1\" class=\"dataframe\">\n",
       "  <thead>\n",
       "    <tr style=\"text-align: right;\">\n",
       "      <th></th>\n",
       "      <th>treenode_id</th>\n",
       "      <th>connector_id</th>\n",
       "      <th>relation</th>\n",
       "      <th>x</th>\n",
       "      <th>y</th>\n",
       "      <th>z</th>\n",
       "      <th>URL</th>\n",
       "    </tr>\n",
       "  </thead>\n",
       "  <tbody>\n",
       "    <tr>\n",
       "      <th>868</th>\n",
       "      <td>10350265</td>\n",
       "      <td>10350269</td>\n",
       "      <td>0</td>\n",
       "      <td>358255</td>\n",
       "      <td>151135</td>\n",
       "      <td>167240</td>\n",
       "      <td>https://neuropil.janelia.org/tracing/fafb/v14/...</td>\n",
       "    </tr>\n",
       "    <tr>\n",
       "      <th>1423</th>\n",
       "      <td>10366582</td>\n",
       "      <td>10366581</td>\n",
       "      <td>0</td>\n",
       "      <td>336551</td>\n",
       "      <td>159297</td>\n",
       "      <td>177360</td>\n",
       "      <td>https://neuropil.janelia.org/tracing/fafb/v14/...</td>\n",
       "    </tr>\n",
       "    <tr>\n",
       "      <th>785</th>\n",
       "      <td>10345534</td>\n",
       "      <td>10345533</td>\n",
       "      <td>0</td>\n",
       "      <td>375162</td>\n",
       "      <td>146617</td>\n",
       "      <td>170760</td>\n",
       "      <td>https://neuropil.janelia.org/tracing/fafb/v14/...</td>\n",
       "    </tr>\n",
       "    <tr>\n",
       "      <th>597</th>\n",
       "      <td>10337834</td>\n",
       "      <td>10337835</td>\n",
       "      <td>0</td>\n",
       "      <td>385421</td>\n",
       "      <td>134986</td>\n",
       "      <td>173200</td>\n",
       "      <td>https://neuropil.janelia.org/tracing/fafb/v14/...</td>\n",
       "    </tr>\n",
       "    <tr>\n",
       "      <th>1591</th>\n",
       "      <td>10370697</td>\n",
       "      <td>10370695</td>\n",
       "      <td>0</td>\n",
       "      <td>341188</td>\n",
       "      <td>153709</td>\n",
       "      <td>169440</td>\n",
       "      <td>https://neuropil.janelia.org/tracing/fafb/v14/...</td>\n",
       "    </tr>\n",
       "  </tbody>\n",
       "</table>\n",
       "</div>"
      ],
      "text/plain": [
       "      treenode_id  connector_id  relation       x       y       z  \\\n",
       "868      10350265      10350269         0  358255  151135  167240   \n",
       "1423     10366582      10366581         0  336551  159297  177360   \n",
       "785      10345534      10345533         0  375162  146617  170760   \n",
       "597      10337834      10337835         0  385421  134986  173200   \n",
       "1591     10370697      10370695         0  341188  153709  169440   \n",
       "\n",
       "                                                    URL  \n",
       "868   https://neuropil.janelia.org/tracing/fafb/v14/...  \n",
       "1423  https://neuropil.janelia.org/tracing/fafb/v14/...  \n",
       "785   https://neuropil.janelia.org/tracing/fafb/v14/...  \n",
       "597   https://neuropil.janelia.org/tracing/fafb/v14/...  \n",
       "1591  https://neuropil.janelia.org/tracing/fafb/v14/...  "
      ]
     },
     "execution_count": 11,
     "metadata": {},
     "output_type": "execute_result"
    }
   ],
   "source": [
    "ran = pre.sample(frac=1)\n",
    "ran.head()"
   ]
  },
  {
   "cell_type": "raw",
   "metadata": {
    "raw_mimetype": "text/restructuredtext"
   },
   "source": [
    "These are the relevant functions:\n",
    "\n",
    ".. autosummary::\n",
    "    \n",
    "    pymaid.url_to_coordinates"
   ]
  }
 ],
 "metadata": {
  "celltoolbar": "Raw Cell Format",
  "kernelspec": {
   "display_name": "Python 3",
   "language": "python",
   "name": "python3"
  },
  "language_info": {
   "codemirror_mode": {
    "name": "ipython",
    "version": 3
   },
   "file_extension": ".py",
   "mimetype": "text/x-python",
   "name": "python",
   "nbconvert_exporter": "python",
   "pygments_lexer": "ipython3",
   "version": "3.5.3"
  }
 },
 "nbformat": 4,
 "nbformat_minor": 2
}
