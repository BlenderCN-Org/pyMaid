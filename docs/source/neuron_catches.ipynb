{
 "cells": [
  {
   "cell_type": "code",
   "execution_count": 1,
   "metadata": {},
   "outputs": [
    {
     "name": "stderr",
     "output_type": "stream",
     "text": [
      "WARNING : Module pyoctree not found. Falling back to scipy's                             ConvexHull for intersection calculations. (pymaid)\n",
      "/Library/Frameworks/Python.framework/Versions/3.7/lib/python3.7/site-packages/vispy/visuals/isocurve.py:22: UserWarning:\n",
      "\n",
      "VisPy is not yet compatible with matplotlib 2.2+\n",
      "\n",
      "INFO  : Global CATMAID instance set. (pymaid)\n"
     ]
    }
   ],
   "source": [
    "import pymaid \n",
    "from connect_catmaid import *\n",
    "rm = connect_adult_em()"
   ]
  },
  {
   "cell_type": "code",
   "execution_count": null,
   "metadata": {},
   "outputs": [],
   "source": []
  }
 ],
 "metadata": {
  "kernelspec": {
   "display_name": "Python 3",
   "language": "python",
   "name": "python3"
  },
  "language_info": {
   "codemirror_mode": {
    "name": "ipython",
    "version": 3
   },
   "file_extension": ".py",
   "mimetype": "text/x-python",
   "name": "python",
   "nbconvert_exporter": "python",
   "pygments_lexer": "ipython3",
   "version": "3.7.0"
  }
 },
 "nbformat": 4,
 "nbformat_minor": 2
}
