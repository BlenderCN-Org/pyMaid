{
 "cells": [
  {
   "cell_type": "markdown",
   "metadata": {},
   "source": [
    "#### This notebook explains how to retrieve different types of connectors from CATMAID\n",
    "\n",
    "Dependencies:  \n",
    "[pymaid.py](https://github.com/schlegelp/pymaid)"
   ]
  },
  {
   "cell_type": "code",
   "execution_count": 1,
   "metadata": {
    "collapsed": false
   },
   "outputs": [
    {
     "name": "stdout",
     "output_type": "stream",
     "text": [
      "Help on function get_connectors in module pymaid:\n",
      "\n",
      "get_connectors(skids, remote_instance=None, incoming_synapses=True, outgoing_synapses=True, abutting=False, gap_junctions=False, project_id=1)\n",
      "    Wrapper to retrieve connectors for a set of neurons\n",
      "    \n",
      "    Parameters:\n",
      "    ----------\n",
      "    skids :             list of skeleton ids\n",
      "    remote_instance :   CATMAID instance; either pass directly to function or define globally as 'remote_instance'\n",
      "    incoming_synapses : boolean (default = True)\n",
      "                        if True, incoming synapses will be retrieved\n",
      "    outgoing_synapses : boolean (default = True)\n",
      "                        if True, outgoing synapses will be retrieved\n",
      "    abutting :          boolean (default = False)\n",
      "                        if True, abutting connectors will be retrieved\n",
      "    gap_junctions :     boolean (default = False)\n",
      "                        if True, gap junctions will be retrieved\n",
      "    project_id :        int (default = 1)\n",
      "                        ID if the CATMAID project\n",
      "    \n",
      "    Returns:\n",
      "    ------- \n",
      "    list of connectors:  [skeleton_id, connector_id, x, y, z, slice, confidence, creator, treenode_id, creation_date, type ]\n",
      "\n"
     ]
    }
   ],
   "source": [
    "import sys\n",
    "sys.path.append('PATH_CONTAINING_PYMAID.PY')\n",
    "\n",
    "from pymaid import CatmaidInstance, get_connectors\n",
    "\n",
    "#Create Catmaid instance\n",
    "remote_instance = CatmaidInstance( 'www.your.catmaid-server.org' , 'http_user' , 'http_password', 'token' )\n",
    "\n",
    "#Check which paramters can be passed to get_connectors\n",
    "help(get_connectors)"
   ]
  },
  {
   "cell_type": "code",
   "execution_count": 8,
   "metadata": {
    "collapsed": false
   },
   "outputs": [
    {
     "name": "stdout",
     "output_type": "stream",
     "text": [
      "Connectors retrieved: 10682\n"
     ]
    }
   ],
   "source": [
    "#Retrieve all types of connectors for a single neuron\n",
    "cn_data = get_connectors(   [2333007],\n",
    "                            remote_instance,\n",
    "                            incoming_synapses = True,\n",
    "                            outgoing_synapses = True,\n",
    "                            abutting = True,\n",
    "                            gap_junctions = True,\n",
    "                            project_id = 1\n",
    "                        )\n",
    "print('Connectors retrieved:', len(cn_data))"
   ]
  },
  {
   "cell_type": "code",
   "execution_count": 10,
   "metadata": {
    "collapsed": false
   },
   "outputs": [
    {
     "name": "stdout",
     "output_type": "stream",
     "text": [
      "[2333007, 7746388, 691290.0, 265831.0, 75775.0, 5, 94, 7746386, '2017-02-15T11:13:38.842268+00:00', 'presynaptic_to']\n"
     ]
    }
   ],
   "source": [
    "#cn_data contains a list of connectors\n",
    "print(cn_data[0])"
   ]
  },
  {
   "cell_type": "markdown",
   "metadata": {},
   "source": [
    "#### Each entry in `cn_data` has: `skeleton_id`, `connector_id`, `x`, `y`, `z`, `confidence`, `user_id`, `treenode_id`, `creation_date`, and `type`.  "
   ]
  }
 ],
 "metadata": {
  "anaconda-cloud": {},
  "kernelspec": {
   "display_name": "Python [default]",
   "language": "python",
   "name": "python3"
  },
  "language_info": {
   "codemirror_mode": {
    "name": "ipython",
    "version": 3
   },
   "file_extension": ".py",
   "mimetype": "text/x-python",
   "name": "python",
   "nbconvert_exporter": "python",
   "pygments_lexer": "ipython3",
   "version": "3.5.2"
  }
 },
 "nbformat": 4,
 "nbformat_minor": 2
}
