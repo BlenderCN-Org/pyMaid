{
 "cells": [
  {
   "cell_type": "markdown",
   "metadata": {},
   "source": [
    "#### This notebook explains how to retrieve different types of connectors from CATMAID\n",
    "\n",
    "Dependencies:  \n",
    "[pymaid.py](https://github.com/schlegelp/pymaid)"
   ]
  },
  {
   "cell_type": "code",
   "execution_count": 1,
   "metadata": {
    "collapsed": false
   },
   "outputs": [
    {
     "name": "stderr",
     "output_type": "stream",
     "text": [
      "2017-04-25 11:56:25,030 - pymaid.pymaid - INFO - CATMAID instance created\n"
     ]
    },
    {
     "name": "stdout",
     "output_type": "stream",
     "text": [
      "Help on function get_connectors in module pymaid.pymaid:\n",
      "\n",
      "get_connectors(skids, remote_instance=None, incoming_synapses=True, outgoing_synapses=True, abutting=False, gap_junctions=False, project_id=1)\n",
      "    Wrapper to retrieve connectors for a set of neurons.    \n",
      "    \n",
      "    Parameters:\n",
      "    ----------\n",
      "    skids :             list of skeleton ids\n",
      "    remote_instance :   CATMAID instance \n",
      "                        either pass directly to function or define \n",
      "                        globally as 'remote_instance'\n",
      "    incoming_synapses : boolean (default = True)\n",
      "                        if True, incoming synapses will be retrieved\n",
      "    outgoing_synapses : boolean (default = True)\n",
      "                        if True, outgoing synapses will be retrieved\n",
      "    abutting :          boolean (default = False)\n",
      "                        if True, abutting connectors will be retrieved\n",
      "    gap_junctions :     boolean (default = False)\n",
      "                        if True, gap junctions will be retrieved\n",
      "    project_id :        int (default = 1)\n",
      "                        ID of the CATMAID project\n",
      "    \n",
      "    Returns:\n",
      "    ------- \n",
      "    Pandas dataframe containing the following columns.     \n",
      "    \n",
      "      skeleton_id  connector_id  x  y  z  confidence  creator_id  treenode_id      0\n",
      "    1\n",
      "    ...\n",
      "    \n",
      "      creation_time  edition_time type\n",
      "    0\n",
      "    1\n",
      "    ...\n",
      "    \n",
      "    Please note: Each row represents a link (connector <-> treenode)! Connectors\n",
      "    may thus show up in multiple rows. Use e.g. df.connector_id.unique() to get \n",
      "    a set of unique connector IDs.\n",
      "\n"
     ]
    }
   ],
   "source": [
    "from pymaid.pymaid import CatmaidInstance, get_connectors\n",
    "\n",
    "#Create Catmaid instance\n",
    "remote_instance = CatmaidInstance( 'https://www.your.catmaid-server.org' , 'http_user' , 'http_password', 'token' )\n",
    "\n",
    "#Check which paramters can be passed to get_connectors and the format of the returned data\n",
    "help(get_connectors)"
   ]
  },
  {
   "cell_type": "code",
   "execution_count": 2,
   "metadata": {
    "collapsed": false
   },
   "outputs": [
    {
     "name": "stdout",
     "output_type": "stream",
     "text": [
      "Connectors retrieved: 10754\n"
     ]
    }
   ],
   "source": [
    "#Retrieve all types of connectors for a single neuron\n",
    "cn_data = get_connectors(   [2333007],\n",
    "                            remote_instance,\n",
    "                            incoming_synapses = True,\n",
    "                            outgoing_synapses = True,\n",
    "                            abutting = True,\n",
    "                            gap_junctions = True,\n",
    "                            project_id = 1\n",
    "                        )\n",
    "print('Connectors retrieved: %i' % cn_data.shape[0] )"
   ]
  },
  {
   "cell_type": "markdown",
   "metadata": {},
   "source": [
    "*cn_data* is a Pandas dataframe -> check out http://pandas.pydata.org/ to find out more.  \n",
    "Let's have a look at the first few entries"
   ]
  },
  {
   "cell_type": "code",
   "execution_count": 4,
   "metadata": {
    "collapsed": false
   },
   "outputs": [
    {
     "data": {
      "text/html": [
       "<div>\n",
       "<table border=\"1\" class=\"dataframe\">\n",
       "  <thead>\n",
       "    <tr style=\"text-align: right;\">\n",
       "      <th></th>\n",
       "      <th>skeleton_id</th>\n",
       "      <th>connector_id</th>\n",
       "      <th>x</th>\n",
       "      <th>y</th>\n",
       "      <th>z</th>\n",
       "      <th>confidence</th>\n",
       "      <th>creator_id</th>\n",
       "      <th>treenode_id</th>\n",
       "      <th>creation_time</th>\n",
       "      <th>edition_time</th>\n",
       "      <th>type</th>\n",
       "    </tr>\n",
       "  </thead>\n",
       "  <tbody>\n",
       "    <tr>\n",
       "      <th>0</th>\n",
       "      <td>2333007</td>\n",
       "      <td>7746388</td>\n",
       "      <td>691290</td>\n",
       "      <td>265831</td>\n",
       "      <td>75775</td>\n",
       "      <td>5</td>\n",
       "      <td>94</td>\n",
       "      <td>7746386</td>\n",
       "      <td>2017-01-13T16:01:47.942417+00:00</td>\n",
       "      <td>2017-02-15T11:13:38.842268+00:00</td>\n",
       "      <td>presynaptic_to</td>\n",
       "    </tr>\n",
       "    <tr>\n",
       "      <th>1</th>\n",
       "      <td>2333007</td>\n",
       "      <td>7713626</td>\n",
       "      <td>664343</td>\n",
       "      <td>237231</td>\n",
       "      <td>42315</td>\n",
       "      <td>5</td>\n",
       "      <td>94</td>\n",
       "      <td>7713623</td>\n",
       "      <td>2017-01-12T18:11:20.827665+00:00</td>\n",
       "      <td>2017-02-15T11:13:38.842268+00:00</td>\n",
       "      <td>presynaptic_to</td>\n",
       "    </tr>\n",
       "    <tr>\n",
       "      <th>2</th>\n",
       "      <td>2333007</td>\n",
       "      <td>7713722</td>\n",
       "      <td>663707</td>\n",
       "      <td>237595</td>\n",
       "      <td>42560</td>\n",
       "      <td>5</td>\n",
       "      <td>94</td>\n",
       "      <td>7713721</td>\n",
       "      <td>2017-01-12T18:12:36.593803+00:00</td>\n",
       "      <td>2017-02-15T11:13:38.842268+00:00</td>\n",
       "      <td>presynaptic_to</td>\n",
       "    </tr>\n",
       "    <tr>\n",
       "      <th>3</th>\n",
       "      <td>2333007</td>\n",
       "      <td>7713894</td>\n",
       "      <td>664529</td>\n",
       "      <td>238593</td>\n",
       "      <td>43120</td>\n",
       "      <td>5</td>\n",
       "      <td>94</td>\n",
       "      <td>7713895</td>\n",
       "      <td>2017-01-12T18:14:14.848118+00:00</td>\n",
       "      <td>2017-02-15T11:13:38.842268+00:00</td>\n",
       "      <td>presynaptic_to</td>\n",
       "    </tr>\n",
       "    <tr>\n",
       "      <th>4</th>\n",
       "      <td>2333007</td>\n",
       "      <td>6205330</td>\n",
       "      <td>566890</td>\n",
       "      <td>228399</td>\n",
       "      <td>58695</td>\n",
       "      <td>5</td>\n",
       "      <td>94</td>\n",
       "      <td>6205321</td>\n",
       "      <td>2016-10-24T17:13:42.056322+00:00</td>\n",
       "      <td>2017-02-15T11:13:38.842268+00:00</td>\n",
       "      <td>presynaptic_to</td>\n",
       "    </tr>\n",
       "  </tbody>\n",
       "</table>\n",
       "</div>"
      ],
      "text/plain": [
       "  skeleton_id connector_id       x       y      z confidence creator_id  \\\n",
       "0     2333007      7746388  691290  265831  75775          5         94   \n",
       "1     2333007      7713626  664343  237231  42315          5         94   \n",
       "2     2333007      7713722  663707  237595  42560          5         94   \n",
       "3     2333007      7713894  664529  238593  43120          5         94   \n",
       "4     2333007      6205330  566890  228399  58695          5         94   \n",
       "\n",
       "  treenode_id                     creation_time  \\\n",
       "0     7746386  2017-01-13T16:01:47.942417+00:00   \n",
       "1     7713623  2017-01-12T18:11:20.827665+00:00   \n",
       "2     7713721  2017-01-12T18:12:36.593803+00:00   \n",
       "3     7713895  2017-01-12T18:14:14.848118+00:00   \n",
       "4     6205321  2016-10-24T17:13:42.056322+00:00   \n",
       "\n",
       "                       edition_time            type  \n",
       "0  2017-02-15T11:13:38.842268+00:00  presynaptic_to  \n",
       "1  2017-02-15T11:13:38.842268+00:00  presynaptic_to  \n",
       "2  2017-02-15T11:13:38.842268+00:00  presynaptic_to  \n",
       "3  2017-02-15T11:13:38.842268+00:00  presynaptic_to  \n",
       "4  2017-02-15T11:13:38.842268+00:00  presynaptic_to  "
      ]
     },
     "execution_count": 4,
     "metadata": {},
     "output_type": "execute_result"
    }
   ],
   "source": [
    "cn_data.head()"
   ]
  },
  {
   "cell_type": "markdown",
   "metadata": {},
   "source": [
    "Pandas dataframes allow complex indexing. Let's for example find all presynaptic connectors:"
   ]
  },
  {
   "cell_type": "code",
   "execution_count": 6,
   "metadata": {
    "collapsed": false
   },
   "outputs": [
    {
     "name": "stdout",
     "output_type": "stream",
     "text": [
      "Presynapses: 792\n"
     ]
    }
   ],
   "source": [
    "presynapses = cn_data[ cn_data.type == 'presynaptic_to' ]\n",
    "print('Presynapses: %i' % presynapses.shape[0] )"
   ]
  },
  {
   "cell_type": "code",
   "execution_count": 11,
   "metadata": {
    "collapsed": false
   },
   "outputs": [
    {
     "name": "stdout",
     "output_type": "stream",
     "text": [
      "Presynapses for neuron #2333007: 792\n"
     ]
    }
   ],
   "source": [
    "#Especially when requesting connectors from multiple neurons, we can do some more filtering:\n",
    "#Let's get only connectors that are presynaptic to a given neuron\n",
    "presynapses = cn_data[ (cn_data.type == 'presynaptic_to') & (cn_data.skeleton_id == 2333007) ]\n",
    "print('Presynapses for neuron #2333007: %i' % presynapses.shape[0] )"
   ]
  },
  {
   "cell_type": "markdown",
   "metadata": {},
   "source": [
    "Each row in the dataframe represents a single link - as individual **postsynaptic** connectors can be connected to the same neuron multiple times, they may also show up in more than one row (associated with different *treenode_id*). Let's get a list of unique postsynaptic connectors:"
   ]
  },
  {
   "cell_type": "code",
   "execution_count": 70,
   "metadata": {
    "collapsed": false
   },
   "outputs": [
    {
     "data": {
      "text/plain": [
       "112"
      ]
     },
     "execution_count": 70,
     "metadata": {},
     "output_type": "execute_result"
    }
   ],
   "source": [
    "postsynapses = cn_data[ (cn_data.type == 'postsynaptic_to') & (cn_data.skeleton_id == 2333007) ]\n",
    "\n",
    "#Count occurences and add as new column\n",
    "counts = postsynapses.connector_id.value_counts()\n",
    "\n",
    "#Get a the number of postsynaptic connector that connect more than once\n",
    "counts[ (counts > 1) ].shape[0]"
   ]
  }
 ],
 "metadata": {
  "anaconda-cloud": {},
  "kernelspec": {
   "display_name": "Python [default]",
   "language": "python",
   "name": "python3"
  },
  "language_info": {
   "codemirror_mode": {
    "name": "ipython",
    "version": 3
   },
   "file_extension": ".py",
   "mimetype": "text/x-python",
   "name": "python",
   "nbconvert_exporter": "python",
   "pygments_lexer": "ipython3",
   "version": "3.5.2"
  }
 },
 "nbformat": 4,
 "nbformat_minor": 2
}
