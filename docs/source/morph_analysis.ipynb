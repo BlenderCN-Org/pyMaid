{
 "cells": [
  {
   "cell_type": "raw",
   "metadata": {
    "raw_mimetype": "text/restructuredtext"
   },
   "source": [
    "Morphological Analyses\n",
    "**********************\n",
    "\n",
    "This section should give you an impression of how to access and compute morphological properties of neurons.\n",
    "\n",
    "Basic properties\n",
    "================\n",
    "\n",
    "Many basic parameters are readily accessible through attributes of :class:`~pymaid.CatmaidNeuron` or :class:`~pymaid.CatmaidNeuronList`"
   ]
  },
  {
   "cell_type": "code",
   "execution_count": 3,
   "metadata": {},
   "outputs": [
    {
     "name": "stderr",
     "output_type": "stream",
     "text": [
      "INFO  : Global CATMAID instance set. (pymaid.fetch)\n",
      "WARNING : Deprecationwarning: get_skids_by_annotation() is deprecated, use find_neurons() instead. (pymaid.fetch)\n",
      "INFO  : Looking for Annotation(s): glomerulus DA1 (pymaid.fetch)\n",
      "INFO  : Found 19 skeletons with matching annotation(s) (pymaid.fetch)\n"
     ]
    },
    {
     "data": {
      "application/vnd.jupyter.widget-view+json": {
       "model_id": "d198902e9e6c4d6e83cf302bb1700407"
      }
     },
     "metadata": {},
     "output_type": "display_data"
    },
    {
     "name": "stdout",
     "output_type": "stream",
     "text": [
      "\n"
     ]
    },
    {
     "data": {
      "application/vnd.jupyter.widget-view+json": {
       "model_id": "11fca8a87c384604bfc7aa7aa80b069d"
      }
     },
     "metadata": {},
     "output_type": "display_data"
    },
    {
     "name": "stdout",
     "output_type": "stream",
     "text": [
      "\n"
     ]
    },
    {
     "data": {
      "text/plain": [
       "array([ 1590.67658924,  1180.59748944,  1035.07685675,  1113.15667601,\n",
       "        1215.92059396,  1183.49077365,  1059.72905251,  1870.86823752,\n",
       "        1747.51170831,  1296.68648796,   836.56668753,   836.0672524 ,\n",
       "        1117.75097496,   752.77376043,  1109.88614556,   756.52786559,\n",
       "        1130.42225492,  1691.17427264,   715.76091012])"
      ]
     },
     "execution_count": 3,
     "metadata": {},
     "output_type": "execute_result"
    }
   ],
   "source": [
    "import pymaid\n",
    "\n",
    "rm = pymaid.CatmaidInstance('server_url','http_user','http_pw','token')\n",
    "nl = pymaid.get_neurons('annotation:glomerulus DA1')\n",
    "\n",
    "# Access single attribute: e.g. cable lengths [um]\n",
    "nl.cable_length"
   ]
  },
  {
   "cell_type": "code",
   "execution_count": 2,
   "metadata": {},
   "outputs": [
    {
     "data": {
      "text/html": [
       "<div>\n",
       "<style scoped>\n",
       "    .dataframe tbody tr th:only-of-type {\n",
       "        vertical-align: middle;\n",
       "    }\n",
       "\n",
       "    .dataframe tbody tr th {\n",
       "        vertical-align: top;\n",
       "    }\n",
       "\n",
       "    .dataframe thead th {\n",
       "        text-align: right;\n",
       "    }\n",
       "</style>\n",
       "<table border=\"1\" class=\"dataframe\">\n",
       "  <thead>\n",
       "    <tr style=\"text-align: right;\">\n",
       "      <th></th>\n",
       "      <th>neuron_name</th>\n",
       "      <th>skeleton_id</th>\n",
       "      <th>n_nodes</th>\n",
       "      <th>n_connectors</th>\n",
       "      <th>n_branch_nodes</th>\n",
       "      <th>n_end_nodes</th>\n",
       "      <th>open_ends</th>\n",
       "      <th>cable_length</th>\n",
       "      <th>review_status</th>\n",
       "      <th>soma</th>\n",
       "    </tr>\n",
       "  </thead>\n",
       "  <tbody>\n",
       "    <tr>\n",
       "      <th>0</th>\n",
       "      <td>PN glomerulus DA1 27296 BH</td>\n",
       "      <td>27295</td>\n",
       "      <td>9969</td>\n",
       "      <td>463</td>\n",
       "      <td>211</td>\n",
       "      <td>218</td>\n",
       "      <td>58</td>\n",
       "      <td>1590.676589</td>\n",
       "      <td>NA</td>\n",
       "      <td>True</td>\n",
       "    </tr>\n",
       "    <tr>\n",
       "      <th>1</th>\n",
       "      <td>PN glomerulus DA1 57312 LK</td>\n",
       "      <td>57311</td>\n",
       "      <td>4874</td>\n",
       "      <td>421</td>\n",
       "      <td>156</td>\n",
       "      <td>163</td>\n",
       "      <td>105</td>\n",
       "      <td>1180.597489</td>\n",
       "      <td>NA</td>\n",
       "      <td>True</td>\n",
       "    </tr>\n",
       "    <tr>\n",
       "      <th>2</th>\n",
       "      <td>PN glomerulus DA1 57324 LK JSL</td>\n",
       "      <td>57323</td>\n",
       "      <td>4585</td>\n",
       "      <td>434</td>\n",
       "      <td>120</td>\n",
       "      <td>127</td>\n",
       "      <td>59</td>\n",
       "      <td>1035.076857</td>\n",
       "      <td>NA</td>\n",
       "      <td>True</td>\n",
       "    </tr>\n",
       "    <tr>\n",
       "      <th>3</th>\n",
       "      <td>PN glomerulus DA1 57354 GA</td>\n",
       "      <td>57353</td>\n",
       "      <td>4895</td>\n",
       "      <td>324</td>\n",
       "      <td>90</td>\n",
       "      <td>95</td>\n",
       "      <td>52</td>\n",
       "      <td>1113.156676</td>\n",
       "      <td>NA</td>\n",
       "      <td>True</td>\n",
       "    </tr>\n",
       "    <tr>\n",
       "      <th>4</th>\n",
       "      <td>PN glomerulus DA1 57382 ML</td>\n",
       "      <td>57381</td>\n",
       "      <td>7727</td>\n",
       "      <td>357</td>\n",
       "      <td>153</td>\n",
       "      <td>162</td>\n",
       "      <td>71</td>\n",
       "      <td>1215.920594</td>\n",
       "      <td>NA</td>\n",
       "      <td>True</td>\n",
       "    </tr>\n",
       "  </tbody>\n",
       "</table>\n",
       "</div>"
      ],
      "text/plain": [
       "                      neuron_name skeleton_id  n_nodes  n_connectors  \\\n",
       "0      PN glomerulus DA1 27296 BH       27295     9969           463   \n",
       "1      PN glomerulus DA1 57312 LK       57311     4874           421   \n",
       "2  PN glomerulus DA1 57324 LK JSL       57323     4585           434   \n",
       "3      PN glomerulus DA1 57354 GA       57353     4895           324   \n",
       "4      PN glomerulus DA1 57382 ML       57381     7727           357   \n",
       "\n",
       "   n_branch_nodes  n_end_nodes  open_ends  cable_length review_status  soma  \n",
       "0             211          218         58   1590.676589            NA  True  \n",
       "1             156          163        105   1180.597489            NA  True  \n",
       "2             120          127         59   1035.076857            NA  True  \n",
       "3              90           95         52   1113.156676            NA  True  \n",
       "4             153          162         71   1215.920594            NA  True  "
      ]
     },
     "execution_count": 2,
     "metadata": {},
     "output_type": "execute_result"
    }
   ],
   "source": [
    "# .. or get a full summary as pandas DataFrame\n",
    "df = nl.summary()\n",
    "df.head()"
   ]
  },
  {
   "cell_type": "raw",
   "metadata": {
    "raw_mimetype": "text/restructuredtext"
   },
   "source": [
    "Rerooting, resampling, simplifying\n",
    "==================================\n",
    "Pymaid lets you perform (virtual) surgery on neurons. Many of the base functions are also accessible directly via :class:`~pymaid.CatmaidNeuron` and :class:`~pymaid.CatmaidNeuronList` methods. E.g. :func:`pymaid.CatmaidNeuronList.resample` is simply calling :func:`pymaid.resample_neuron`.\n",
    "\n",
    "Examples continue from above code."
   ]
  },
  {
   "cell_type": "code",
   "execution_count": 3,
   "metadata": {},
   "outputs": [
    {
     "data": {
      "text/plain": [
       "3005291"
      ]
     },
     "execution_count": 3,
     "metadata": {},
     "output_type": "execute_result"
    }
   ],
   "source": [
    "# Reroot a single neuron to its soma\n",
    "nl[0].soma"
   ]
  },
  {
   "cell_type": "code",
   "execution_count": 4,
   "metadata": {
    "collapsed": true
   },
   "outputs": [],
   "source": [
    "# .soma returns the treenode ID of the soma (if existing) and can be used to reroot\n",
    "nl[0].reroot(nl[0].soma)"
   ]
  },
  {
   "cell_type": "code",
   "execution_count": 5,
   "metadata": {},
   "outputs": [
    {
     "data": {
      "application/vnd.jupyter.widget-view+json": {
       "model_id": "e0b07e5ba886454eb0ece01e1fb270ea"
      }
     },
     "metadata": {},
     "output_type": "display_data"
    },
    {
     "name": "stdout",
     "output_type": "stream",
     "text": [
      "\n"
     ]
    }
   ],
   "source": [
    "# You can also perform this operation on the entire CatmaidNeuronList\n",
    "nl.reroot( nl.soma )"
   ]
  },
  {
   "cell_type": "raw",
   "metadata": {
    "raw_mimetype": "text/restructuredtext"
   },
   "source": [
    "If you work with large lists you may want to down-/resample before e.g. plotting."
   ]
  },
  {
   "cell_type": "code",
   "execution_count": 6,
   "metadata": {},
   "outputs": [
    {
     "data": {
      "application/vnd.jupyter.widget-view+json": {
       "model_id": "8665d3323fc943f59f306568f17478ff"
      }
     },
     "metadata": {},
     "output_type": "display_data"
    },
    {
     "name": "stdout",
     "output_type": "stream",
     "text": [
      "\n"
     ]
    },
    {
     "data": {
      "application/vnd.jupyter.widget-view+json": {
       "model_id": "814cc1c5c82d42b7bb202e500ba7de6d"
      }
     },
     "metadata": {},
     "output_type": "display_data"
    },
    {
     "name": "stdout",
     "output_type": "stream",
     "text": [
      "\n"
     ]
    },
    {
     "data": {
      "application/vnd.jupyter.widget-view+json": {
       "model_id": "5b3d69486b994d14b4060a7bb7d19b26"
      }
     },
     "metadata": {},
     "output_type": "display_data"
    },
    {
     "name": "stdout",
     "output_type": "stream",
     "text": [
      "\n"
     ]
    },
    {
     "data": {
      "application/vnd.jupyter.widget-view+json": {
       "model_id": "4aea51e2e4dc413295e6372260125e40"
      }
     },
     "metadata": {},
     "output_type": "display_data"
    },
    {
     "data": {
      "application/vnd.jupyter.widget-view+json": {
       "model_id": "7b7bae45330d479f9701a7ae66d33cc3"
      }
     },
     "metadata": {},
     "output_type": "display_data"
    },
    {
     "data": {
      "application/vnd.jupyter.widget-view+json": {
       "model_id": "1303e23e5cda41f6b5dbc8457e4fb73e"
      }
     },
     "metadata": {},
     "output_type": "display_data"
    },
    {
     "data": {
      "application/vnd.jupyter.widget-view+json": {
       "model_id": "861e3134e3ed4feeac2a60a25b180dd3"
      }
     },
     "metadata": {},
     "output_type": "display_data"
    },
    {
     "data": {
      "application/vnd.jupyter.widget-view+json": {
       "model_id": "b3457040c5154a649b8c7f17936b6b2c"
      }
     },
     "metadata": {},
     "output_type": "display_data"
    },
    {
     "data": {
      "application/vnd.jupyter.widget-view+json": {
       "model_id": "5d762f4b18a141899e83a775e71278ec"
      }
     },
     "metadata": {},
     "output_type": "display_data"
    },
    {
     "data": {
      "application/vnd.jupyter.widget-view+json": {
       "model_id": "79e1fa5f817f49eb833bedc21651a531"
      }
     },
     "metadata": {},
     "output_type": "display_data"
    },
    {
     "data": {
      "application/vnd.jupyter.widget-view+json": {
       "model_id": "d676359fbb6348c89bf11daa87721906"
      }
     },
     "metadata": {},
     "output_type": "display_data"
    },
    {
     "data": {
      "application/vnd.jupyter.widget-view+json": {
       "model_id": "eeae998b855e427085f1adcb6c77168c"
      }
     },
     "metadata": {},
     "output_type": "display_data"
    },
    {
     "data": {
      "application/vnd.jupyter.widget-view+json": {
       "model_id": "7869fafd5af24c69a70da1843d0b1633"
      }
     },
     "metadata": {},
     "output_type": "display_data"
    },
    {
     "data": {
      "application/vnd.jupyter.widget-view+json": {
       "model_id": "2b5fb7f4dfcc410c98b7e0c2ec55c05c"
      }
     },
     "metadata": {},
     "output_type": "display_data"
    },
    {
     "data": {
      "application/vnd.jupyter.widget-view+json": {
       "model_id": "cd179532f438430385c407f7b0572b7a"
      }
     },
     "metadata": {},
     "output_type": "display_data"
    },
    {
     "data": {
      "application/vnd.jupyter.widget-view+json": {
       "model_id": "fece29320e7c4370b22bd24c6630f86b"
      }
     },
     "metadata": {},
     "output_type": "display_data"
    },
    {
     "data": {
      "application/vnd.jupyter.widget-view+json": {
       "model_id": "fa6c61104ddb4a398d3ee397d1276b10"
      }
     },
     "metadata": {},
     "output_type": "display_data"
    },
    {
     "data": {
      "application/vnd.jupyter.widget-view+json": {
       "model_id": "1da6599cf89c492b9a8d96b761294319"
      }
     },
     "metadata": {},
     "output_type": "display_data"
    },
    {
     "data": {
      "application/vnd.jupyter.widget-view+json": {
       "model_id": "c130622afa71405da8ae22cb9a414061"
      }
     },
     "metadata": {},
     "output_type": "display_data"
    },
    {
     "data": {
      "application/vnd.jupyter.widget-view+json": {
       "model_id": "acb31e9a9c104bb492d147df9171171f"
      }
     },
     "metadata": {},
     "output_type": "display_data"
    },
    {
     "data": {
      "application/vnd.jupyter.widget-view+json": {
       "model_id": "c3087d70bc2845658b091e4a692c50f9"
      }
     },
     "metadata": {},
     "output_type": "display_data"
    },
    {
     "data": {
      "application/vnd.jupyter.widget-view+json": {
       "model_id": "abd33fa4a6124cb7a648f5cefda7b1d2"
      }
     },
     "metadata": {},
     "output_type": "display_data"
    },
    {
     "data": {
      "application/vnd.jupyter.widget-view+json": {
       "model_id": "b63cdbd6bbc24e388c32785a8c0820a3"
      }
     },
     "metadata": {},
     "output_type": "display_data"
    },
    {
     "name": "stdout",
     "output_type": "stream",
     "text": [
      "\n"
     ]
    }
   ],
   "source": [
    "# Downsample by \"skipping\" N nodes (here: 10) \n",
    "nl_downsampled = nl.downsample( 10, inplace=False )\n",
    "# More elaborate: resample to given resolution in nanometers (here: 1000nm = 1um)\n",
    "nl_resampled = nl.resample( 1000, inplace=False )"
   ]
  },
  {
   "cell_type": "code",
   "execution_count": 75,
   "metadata": {
    "scrolled": false
   },
   "outputs": [
    {
     "data": {
      "application/vnd.jupyter.widget-view+json": {
       "model_id": "9e3864aa48c24a54b926920634475ab7"
      }
     },
     "metadata": {},
     "output_type": "display_data"
    },
    {
     "name": "stderr",
     "output_type": "stream",
     "text": [
      "INFO  : Done. Use matplotlib.pyplot.show() to show plot. (pymaid.plotting)\n"
     ]
    },
    {
     "name": "stdout",
     "output_type": "stream",
     "text": [
      "\r"
     ]
    },
    {
     "data": {
      "application/vnd.jupyter.widget-view+json": {
       "model_id": "913fa3ccf9d149be95a0750e4a24c2a7"
      }
     },
     "metadata": {},
     "output_type": "display_data"
    },
    {
     "name": "stderr",
     "output_type": "stream",
     "text": [
      "INFO  : Done. Use matplotlib.pyplot.show() to show plot. (pymaid.plotting)\n"
     ]
    },
    {
     "name": "stdout",
     "output_type": "stream",
     "text": [
      "\r"
     ]
    },
    {
     "data": {
      "application/vnd.jupyter.widget-view+json": {
       "model_id": "b16f38fc77784951a70bb0baddd90152"
      }
     },
     "metadata": {},
     "output_type": "display_data"
    },
    {
     "name": "stderr",
     "output_type": "stream",
     "text": [
      "INFO  : Done. Use matplotlib.pyplot.show() to show plot. (pymaid.plotting)\n"
     ]
    },
    {
     "name": "stdout",
     "output_type": "stream",
     "text": [
      "\r"
     ]
    },
    {
     "data": {
      "image/png": "[encoded data removed]",
      "text/plain": [
       "<matplotlib.figure.Figure at 0x1233fd828>"
      ]
     },
     "metadata": {},
     "output_type": "display_data"
    }
   ],
   "source": [
    "import matplotlib.pyplot as plt\n",
    "\n",
    "# Plot an original neuron first\n",
    "fig, ax = nl[0].plot2d(color='red')\n",
    "\n",
    "# Shift the downsampled and resampled versions slightly and plot\n",
    "n_ds = nl_downsampled[0].copy()\n",
    "n_rs = nl_resampled[0].copy()\n",
    "\n",
    "n_ds.nodes.x += 10000\n",
    "n_rs.nodes.x += 20000\n",
    "\n",
    "fig, ax = n_ds.plot2d(color='blue', ax=ax)\n",
    "fig, ax = n_rs.plot2d(color='green', ax=ax)\n",
    "\n",
    "plt.show()"
   ]
  },
  {
   "cell_type": "raw",
   "metadata": {
    "raw_mimetype": "text/restructuredtext"
   },
   "source": [
    "Looking closely, you will find that the downsampled (blue) and resampled (green) neurons are smoother. \n",
    "\n",
    ".. important::\n",
    "   Note how we used `inplace=False` parameter when using the neuronlist's downsampling method? \n",
    "   This parameter works like in pandas: if True will perform the action on the neuronlist, if\n",
    "   False will operate on and return a copy and leave the original neuronlist unchanged."
   ]
  },
  {
   "cell_type": "raw",
   "metadata": {
    "raw_mimetype": "text/restructuredtext"
   },
   "source": [
    "Cutting, pruning, pasting\n",
    "=========================\n",
    "\n",
    "Examples continue from above code."
   ]
  },
  {
   "cell_type": "code",
   "execution_count": 10,
   "metadata": {},
   "outputs": [
    {
     "data": {
      "application/vnd.jupyter.widget-view+json": {
       "model_id": "5552de39b0914c0ba0290681370cfa73"
      }
     },
     "metadata": {},
     "output_type": "display_data"
    },
    {
     "name": "stderr",
     "output_type": "stream",
     "text": [
      "INFO  : Done. Use matplotlib.pyplot.show() to show plot. (pymaid.plotting)\n"
     ]
    },
    {
     "name": "stdout",
     "output_type": "stream",
     "text": [
      "\r"
     ]
    },
    {
     "data": {
      "application/vnd.jupyter.widget-view+json": {
       "model_id": "91c36c5200c243bbae0586af8eeeab70"
      }
     },
     "metadata": {},
     "output_type": "display_data"
    },
    {
     "name": "stderr",
     "output_type": "stream",
     "text": [
      "INFO  : Done. Use matplotlib.pyplot.show() to show plot. (pymaid.plotting)\n"
     ]
    },
    {
     "name": "stdout",
     "output_type": "stream",
     "text": [
      "\r"
     ]
    },
    {
     "data": {
      "image/png": "[encoded data removed]",
      "text/plain": [
       "<matplotlib.figure.Figure at 0x1211dd048>"
      ]
     },
     "metadata": {},
     "output_type": "display_data"
    }
   ],
   "source": [
    "# Cut a neuron in two using either a treenode ID or (in this case) a node tag\n",
    "distal, proximal = pymaid.cut_neuron( nl[0], cut_node='SCHLEGEL_LH' )\n",
    "# Plot neuron fragments\n",
    "fig, ax = distal.plot2d(color='red', method='2d', connectors=False)\n",
    "fig, ax = proximal.plot2d(color='blue', method='2d', connectors=False, ax=ax)\n",
    "\n",
    "# Annotate cut point\n",
    "cut_coords = distal.nodes.set_index('treenode_id').loc[ distal.root, ['x','y'] ].values[0]\n",
    "ax.annotate('cut point', xy=(cut_coords[0], -cut_coords[1]), \n",
    "            xytext=(cut_coords[0], -cut_coords[1]-20000), va='center', ha='center',\n",
    "            arrowprops=dict(facecolor='black', shrink=0.01, width=1),\n",
    "            )\n",
    "\n",
    "plt.show()"
   ]
  },
  {
   "cell_type": "raw",
   "metadata": {
    "raw_mimetype": "text/restructuredtext"
   },
   "source": [
    "Instead of cutting a neuron in two, we can also just prune bits off a neuron objects:"
   ]
  },
  {
   "cell_type": "code",
   "execution_count": 22,
   "metadata": {},
   "outputs": [
    {
     "data": {
      "application/vnd.jupyter.widget-view+json": {
       "model_id": "e3d08f75ed724734853e3dde3894ce9a"
      }
     },
     "metadata": {},
     "output_type": "display_data"
    },
    {
     "name": "stderr",
     "output_type": "stream",
     "text": [
      "INFO  : Done. Use matplotlib.pyplot.show() to show plot. (pymaid.plotting)\n"
     ]
    },
    {
     "name": "stdout",
     "output_type": "stream",
     "text": [
      "\r"
     ]
    },
    {
     "data": {
      "application/vnd.jupyter.widget-view+json": {
       "model_id": "43485c95d16c45d99d604a458dc8dd3a"
      }
     },
     "metadata": {},
     "output_type": "display_data"
    },
    {
     "name": "stderr",
     "output_type": "stream",
     "text": [
      "INFO  : Done. Use matplotlib.pyplot.show() to show plot. (pymaid.plotting)\n"
     ]
    },
    {
     "name": "stdout",
     "output_type": "stream",
     "text": [
      "\r"
     ]
    },
    {
     "data": {
      "image/png": "[encoded data removed]",
      "text/plain": [
       "<matplotlib.figure.Figure at 0x1233e1dd8>"
      ]
     },
     "metadata": {},
     "output_type": "display_data"
    }
   ],
   "source": [
    "n = nl[0].prune_distal_to('SCHLEGEL_LH', inplace=False)\n",
    "\n",
    "# Plot original neuron in black\n",
    "fig, ax = nl[0].plot2d(color='black', method='2d', connectors=False, linestyle=(0, (5, 10)))\n",
    "\n",
    "# Plot pruned neuron in red\n",
    "fig, ax = n.plot2d(color='red', method='2d', connectors=False, ax=ax)\n",
    "\n",
    "# Annotate cut point\n",
    "ax.annotate('cut point', xy=(cut_coords[0], -cut_coords[1]), \n",
    "            xytext=(cut_coords[0], -cut_coords[1]-20000), va='center', ha='center',\n",
    "            arrowprops=dict(facecolor='black', shrink=0.01, width=1),\n",
    "            )\n",
    "\n",
    "plt.show()"
   ]
  },
  {
   "cell_type": "code",
   "execution_count": 23,
   "metadata": {},
   "outputs": [
    {
     "data": {
      "application/vnd.jupyter.widget-view+json": {
       "model_id": "02728801c6c44619bdc1a657a6b84d3c"
      }
     },
     "metadata": {},
     "output_type": "display_data"
    },
    {
     "name": "stdout",
     "output_type": "stream",
     "text": [
      "\n"
     ]
    }
   ],
   "source": [
    "# To undo, simply reload the neuron from server\n",
    "nl[0].reload()"
   ]
  },
  {
   "cell_type": "code",
   "execution_count": 24,
   "metadata": {},
   "outputs": [
    {
     "data": {
      "application/vnd.jupyter.widget-view+json": {
       "model_id": "9acb25fa6e07452cb3f9ba85a8b7105f"
      }
     },
     "metadata": {},
     "output_type": "display_data"
    },
    {
     "name": "stdout",
     "output_type": "stream",
     "text": [
      "\n"
     ]
    },
    {
     "data": {
      "application/vnd.jupyter.widget-view+json": {
       "model_id": "b5e4992f662542958249805ab7beec95"
      }
     },
     "metadata": {},
     "output_type": "display_data"
    },
    {
     "name": "stdout",
     "output_type": "stream",
     "text": [
      "\n"
     ]
    },
    {
     "data": {
      "application/vnd.jupyter.widget-view+json": {
       "model_id": "683749a9c39e4641b7c3417d2ed06cba"
      }
     },
     "metadata": {},
     "output_type": "display_data"
    },
    {
     "name": "stderr",
     "output_type": "stream",
     "text": [
      "INFO  : Done. Use matplotlib.pyplot.show() to show plot. (pymaid.plotting)\n"
     ]
    },
    {
     "name": "stdout",
     "output_type": "stream",
     "text": [
      "\r"
     ]
    },
    {
     "data": {
      "application/vnd.jupyter.widget-view+json": {
       "model_id": "991d390ee55b49c08a9beb42254f0527"
      }
     },
     "metadata": {},
     "output_type": "display_data"
    },
    {
     "name": "stderr",
     "output_type": "stream",
     "text": [
      "INFO  : Done. Use matplotlib.pyplot.show() to show plot. (pymaid.plotting)\n"
     ]
    },
    {
     "name": "stdout",
     "output_type": "stream",
     "text": [
      "\r"
     ]
    },
    {
     "data": {
      "image/png": "[encoded data removed]",
      "text/plain": [
       "<matplotlib.figure.Figure at 0x121ac0358>"
      ]
     },
     "metadata": {},
     "output_type": "display_data"
    }
   ],
   "source": [
    "# These operations can also be performed on a collection of neurons\n",
    "n = nl[:5].prune_distal_to('SCHLEGEL_LH', inplace=False)\n",
    "\n",
    "# Plot original neurons in black\n",
    "fig, ax = nl[:5].plot2d(color='black', method='2d', connectors=False, linestyle=(0, (5, 10)))\n",
    "\n",
    "# Plot pruned neurons in red\n",
    "fig, ax = n.plot2d(color='red', method='2d', connectors=False, ax=ax)\n",
    "\n",
    "# Annotate cut point\n",
    "ax.annotate('cut point', xy=(cut_coords[0], -cut_coords[1]), \n",
    "            xytext=(cut_coords[0], -cut_coords[1]-20000), va='center', ha='center',\n",
    "            arrowprops=dict(facecolor='black', shrink=0.01, width=1),\n",
    "            )\n",
    "\n",
    "plt.show()"
   ]
  },
  {
   "cell_type": "code",
   "execution_count": 25,
   "metadata": {},
   "outputs": [
    {
     "data": {
      "application/vnd.jupyter.widget-view+json": {
       "model_id": "d579e2d92d294cec9c67d988366f2b69"
      }
     },
     "metadata": {},
     "output_type": "display_data"
    },
    {
     "name": "stdout",
     "output_type": "stream",
     "text": [
      "\n"
     ]
    },
    {
     "data": {
      "application/vnd.jupyter.widget-view+json": {
       "model_id": "d2044a2157e94f8499f4facb422dfea5"
      }
     },
     "metadata": {},
     "output_type": "display_data"
    },
    {
     "name": "stdout",
     "output_type": "stream",
     "text": [
      "\n"
     ]
    }
   ],
   "source": [
    "# Again, let's undo\n",
    "nl.reload()"
   ]
  },
  {
   "cell_type": "code",
   "execution_count": 27,
   "metadata": {},
   "outputs": [
    {
     "data": {
      "application/vnd.jupyter.widget-view+json": {
       "model_id": "5051cea691c74cd5abdee4b5a3aa86b8"
      }
     },
     "metadata": {},
     "output_type": "display_data"
    },
    {
     "name": "stdout",
     "output_type": "stream",
     "text": [
      "\n"
     ]
    },
    {
     "data": {
      "application/vnd.jupyter.widget-view+json": {
       "model_id": "4f31ff285d694925a71929cd2b91797a"
      }
     },
     "metadata": {},
     "output_type": "display_data"
    },
    {
     "name": "stdout",
     "output_type": "stream",
     "text": [
      "\n"
     ]
    },
    {
     "data": {
      "application/vnd.jupyter.widget-view+json": {
       "model_id": "5a7c39943dbb4a0d8ad8ddf28f3faac3"
      }
     },
     "metadata": {},
     "output_type": "display_data"
    },
    {
     "name": "stderr",
     "output_type": "stream",
     "text": [
      "INFO  : Done. Use matplotlib.pyplot.show() to show plot. (pymaid.plotting)\n"
     ]
    },
    {
     "name": "stdout",
     "output_type": "stream",
     "text": [
      "\r"
     ]
    },
    {
     "data": {
      "application/vnd.jupyter.widget-view+json": {
       "model_id": "10a5033042f946ce975e4aa220551ee8"
      }
     },
     "metadata": {},
     "output_type": "display_data"
    },
    {
     "name": "stderr",
     "output_type": "stream",
     "text": [
      "INFO  : Done. Use matplotlib.pyplot.show() to show plot. (pymaid.plotting)\n"
     ]
    },
    {
     "name": "stdout",
     "output_type": "stream",
     "text": [
      "\r"
     ]
    },
    {
     "data": {
      "image/png": "[encoded data removed]",
      "text/plain": [
       "<matplotlib.figure.Figure at 0x122e26e48>"
      ]
     },
     "metadata": {},
     "output_type": "display_data"
    }
   ],
   "source": [
    "# Something more sophisticated: pruning by strahler index\n",
    "n = nl[:5].prune_by_strahler( to_prune = [1,2,3], inplace=False )\n",
    "\n",
    "# Plot original neurons in black\n",
    "fig, ax = nl[:5].plot2d(color='black', method='2d', connectors=False)\n",
    "\n",
    "# Plot pruned neurons in red\n",
    "fig, ax = n.plot2d(color='red', method='2d', connectors=False, ax=ax)\n",
    "\n",
    "# Annotate cut point\n",
    "ax.annotate('cut point', xy=(cut_coords[0], -cut_coords[1]), \n",
    "            xytext=(cut_coords[0], -cut_coords[1]-20000), va='center', ha='center',\n",
    "            arrowprops=dict(facecolor='black', shrink=0.01, width=1),\n",
    "            )\n",
    "\n",
    "plt.show()"
   ]
  },
  {
   "cell_type": "raw",
   "metadata": {
    "raw_mimetype": "text/restructuredtext"
   },
   "source": [
    "We can also intersect neurons with CATMAID volumes:"
   ]
  },
  {
   "cell_type": "code",
   "execution_count": 32,
   "metadata": {},
   "outputs": [
    {
     "data": {
      "application/vnd.jupyter.widget-view+json": {
       "model_id": "a111f51684e34d6281fdc1062a06bd23"
      }
     },
     "metadata": {},
     "output_type": "display_data"
    },
    {
     "name": "stdout",
     "output_type": "stream",
     "text": [
      "\n"
     ]
    },
    {
     "data": {
      "application/vnd.jupyter.widget-view+json": {
       "model_id": "05dbd28094324bb2ab15019fd83c2f8f"
      }
     },
     "metadata": {},
     "output_type": "display_data"
    },
    {
     "data": {
      "application/vnd.jupyter.widget-view+json": {
       "model_id": "d8a08f7786344a59b9882c333a46d810"
      }
     },
     "metadata": {},
     "output_type": "display_data"
    },
    {
     "data": {
      "application/vnd.jupyter.widget-view+json": {
       "model_id": "aef223854efe43da82368e26249c293b"
      }
     },
     "metadata": {},
     "output_type": "display_data"
    },
    {
     "data": {
      "application/vnd.jupyter.widget-view+json": {
       "model_id": "5ea46db981b24e60b69aab5af97f4894"
      }
     },
     "metadata": {},
     "output_type": "display_data"
    },
    {
     "data": {
      "application/vnd.jupyter.widget-view+json": {
       "model_id": "345c4e84dd65466ba5a0a4895588ba17"
      }
     },
     "metadata": {},
     "output_type": "display_data"
    },
    {
     "data": {
      "application/vnd.jupyter.widget-view+json": {
       "model_id": "52dd58c2cd8d4560bddb5304c1e46e00"
      }
     },
     "metadata": {},
     "output_type": "display_data"
    },
    {
     "data": {
      "application/vnd.jupyter.widget-view+json": {
       "model_id": "dd33d1f23f564622b4430edc4ddecea4"
      }
     },
     "metadata": {},
     "output_type": "display_data"
    },
    {
     "data": {
      "application/vnd.jupyter.widget-view+json": {
       "model_id": "03139b44bf20445faec05670d350fd15"
      }
     },
     "metadata": {},
     "output_type": "display_data"
    },
    {
     "data": {
      "application/vnd.jupyter.widget-view+json": {
       "model_id": "f178eef182cf4d468a90ecaac98a209c"
      }
     },
     "metadata": {},
     "output_type": "display_data"
    },
    {
     "data": {
      "application/vnd.jupyter.widget-view+json": {
       "model_id": "aebaf142353241928cde605fe47c0843"
      }
     },
     "metadata": {},
     "output_type": "display_data"
    },
    {
     "data": {
      "application/vnd.jupyter.widget-view+json": {
       "model_id": "0b8648f40fa9455986fe72e2f1fb75d8"
      }
     },
     "metadata": {},
     "output_type": "display_data"
    },
    {
     "data": {
      "application/vnd.jupyter.widget-view+json": {
       "model_id": "adbfe57132fe45c1af26a4131d85f845"
      }
     },
     "metadata": {},
     "output_type": "display_data"
    },
    {
     "data": {
      "application/vnd.jupyter.widget-view+json": {
       "model_id": "9aa7eb54b540493cb9dc4637d43c8661"
      }
     },
     "metadata": {},
     "output_type": "display_data"
    },
    {
     "data": {
      "application/vnd.jupyter.widget-view+json": {
       "model_id": "6bda1210f6664e02aca1ea851422c575"
      }
     },
     "metadata": {},
     "output_type": "display_data"
    },
    {
     "data": {
      "application/vnd.jupyter.widget-view+json": {
       "model_id": "12feb5d4150d4e36974e0608e3fecc94"
      }
     },
     "metadata": {},
     "output_type": "display_data"
    },
    {
     "data": {
      "application/vnd.jupyter.widget-view+json": {
       "model_id": "9edb6768a5d84909bd38b4f9ea30d788"
      }
     },
     "metadata": {},
     "output_type": "display_data"
    },
    {
     "data": {
      "application/vnd.jupyter.widget-view+json": {
       "model_id": "e1870e5106bc4be2b03816cec439e2f0"
      }
     },
     "metadata": {},
     "output_type": "display_data"
    },
    {
     "data": {
      "application/vnd.jupyter.widget-view+json": {
       "model_id": "d3d19e7e5fd74aeab5e84a5f9304979e"
      }
     },
     "metadata": {},
     "output_type": "display_data"
    },
    {
     "data": {
      "application/vnd.jupyter.widget-view+json": {
       "model_id": "bd09f73aba99467f9593438cd91d8676"
      }
     },
     "metadata": {},
     "output_type": "display_data"
    },
    {
     "data": {
      "application/vnd.jupyter.widget-view+json": {
       "model_id": "bf572bb3e2d14d9aa434597ca5d42988"
      }
     },
     "metadata": {},
     "output_type": "display_data"
    },
    {
     "name": "stdout",
     "output_type": "stream",
     "text": [
      "\n"
     ]
    },
    {
     "data": {
      "text/html": [
       "<div>\n",
       "<style scoped>\n",
       "    .dataframe tbody tr th:only-of-type {\n",
       "        vertical-align: middle;\n",
       "    }\n",
       "\n",
       "    .dataframe tbody tr th {\n",
       "        vertical-align: top;\n",
       "    }\n",
       "\n",
       "    .dataframe thead th {\n",
       "        text-align: right;\n",
       "    }\n",
       "</style>\n",
       "<table border=\"1\" class=\"dataframe\">\n",
       "  <thead>\n",
       "    <tr style=\"text-align: right;\">\n",
       "      <th></th>\n",
       "      <th>neuron_name</th>\n",
       "      <th>skeleton_id</th>\n",
       "      <th>n_nodes</th>\n",
       "      <th>n_connectors</th>\n",
       "      <th>n_branch_nodes</th>\n",
       "      <th>n_end_nodes</th>\n",
       "      <th>open_ends</th>\n",
       "      <th>cable_length</th>\n",
       "      <th>review_status</th>\n",
       "      <th>soma</th>\n",
       "    </tr>\n",
       "  </thead>\n",
       "  <tbody>\n",
       "    <tr>\n",
       "      <th>0</th>\n",
       "      <td>PN glomerulus DA1 27296 BH</td>\n",
       "      <td>27295</td>\n",
       "      <td>1696</td>\n",
       "      <td>299</td>\n",
       "      <td>61</td>\n",
       "      <td>62</td>\n",
       "      <td>4</td>\n",
       "      <td>326.624435</td>\n",
       "      <td>NA</td>\n",
       "      <td>False</td>\n",
       "    </tr>\n",
       "    <tr>\n",
       "      <th>1</th>\n",
       "      <td>PN glomerulus DA1 57312 LK</td>\n",
       "      <td>57311</td>\n",
       "      <td>813</td>\n",
       "      <td>295</td>\n",
       "      <td>29</td>\n",
       "      <td>31</td>\n",
       "      <td>1</td>\n",
       "      <td>239.542575</td>\n",
       "      <td>NA</td>\n",
       "      <td>False</td>\n",
       "    </tr>\n",
       "    <tr>\n",
       "      <th>2</th>\n",
       "      <td>PN glomerulus DA1 57324 LK JSL</td>\n",
       "      <td>57323</td>\n",
       "      <td>976</td>\n",
       "      <td>340</td>\n",
       "      <td>42</td>\n",
       "      <td>45</td>\n",
       "      <td>0</td>\n",
       "      <td>254.275453</td>\n",
       "      <td>NA</td>\n",
       "      <td>False</td>\n",
       "    </tr>\n",
       "    <tr>\n",
       "      <th>3</th>\n",
       "      <td>PN glomerulus DA1 57354 GA</td>\n",
       "      <td>57353</td>\n",
       "      <td>880</td>\n",
       "      <td>229</td>\n",
       "      <td>22</td>\n",
       "      <td>23</td>\n",
       "      <td>0</td>\n",
       "      <td>255.515595</td>\n",
       "      <td>NA</td>\n",
       "      <td>False</td>\n",
       "    </tr>\n",
       "    <tr>\n",
       "      <th>4</th>\n",
       "      <td>PN glomerulus DA1 57382 ML</td>\n",
       "      <td>57381</td>\n",
       "      <td>902</td>\n",
       "      <td>224</td>\n",
       "      <td>27</td>\n",
       "      <td>29</td>\n",
       "      <td>0</td>\n",
       "      <td>220.858928</td>\n",
       "      <td>NA</td>\n",
       "      <td>False</td>\n",
       "    </tr>\n",
       "  </tbody>\n",
       "</table>\n",
       "</div>"
      ],
      "text/plain": [
       "                      neuron_name skeleton_id  n_nodes  n_connectors  \\\n",
       "0      PN glomerulus DA1 27296 BH       27295     1696           299   \n",
       "1      PN glomerulus DA1 57312 LK       57311      813           295   \n",
       "2  PN glomerulus DA1 57324 LK JSL       57323      976           340   \n",
       "3      PN glomerulus DA1 57354 GA       57353      880           229   \n",
       "4      PN glomerulus DA1 57382 ML       57381      902           224   \n",
       "\n",
       "   n_branch_nodes  n_end_nodes  open_ends  cable_length review_status   soma  \n",
       "0              61           62          4    326.624435            NA  False  \n",
       "1              29           31          1    239.542575            NA  False  \n",
       "2              42           45          0    254.275453            NA  False  \n",
       "3              22           23          0    255.515595            NA  False  \n",
       "4              27           29          0    220.858928            NA  False  "
      ]
     },
     "execution_count": 32,
     "metadata": {},
     "output_type": "execute_result"
    }
   ],
   "source": [
    "# Get a volume\n",
    "lh = pymaid.get_volume('LH_R')\n",
    "\n",
    "# Prune by volume\n",
    "nl_lh = nl.prune_by_volume(lh, inplace=False)\n",
    "\n",
    "nl_lh.summary().head()"
   ]
  },
  {
   "cell_type": "code",
   "execution_count": 37,
   "metadata": {},
   "outputs": [
    {
     "data": {
      "application/vnd.jupyter.widget-view+json": {
       "model_id": "6ba3ee2b33d240319f9aac4f02faa50d"
      }
     },
     "metadata": {},
     "output_type": "display_data"
    },
    {
     "name": "stderr",
     "output_type": "stream",
     "text": [
      "INFO  : Done. Use matplotlib.pyplot.show() to show plot. (pymaid.plotting)\n"
     ]
    },
    {
     "name": "stdout",
     "output_type": "stream",
     "text": [
      "\r"
     ]
    },
    {
     "data": {
      "image/png": "[encoded data removed]",
      "text/plain": [
       "<matplotlib.figure.Figure at 0x12a7e14e0>"
      ]
     },
     "metadata": {},
     "output_type": "display_data"
    }
   ],
   "source": [
    "# Set color of volume\n",
    "lh['color'] = (250,250,250,.2)\n",
    "\n",
    "# Plot neurons that have some cable left and the volume\n",
    "fig, ax = pymaid.plot2d([nl_lh[nl_lh.cable_length > 10], lh], \n",
    "                        method='3d', \n",
    "                        connectors=False, \n",
    "                        linewidth=2)\n",
    "\n",
    "ax.dist=6\n",
    "plt.show()"
   ]
  },
  {
   "cell_type": "raw",
   "metadata": {
    "raw_mimetype": "text/restructuredtext"
   },
   "source": [
    "For morphological comparisons using NBLAST, see :ref:`_rmaid_link`.\n",
    "\n",
    "Reference\n",
    "=========\n",
    "\n",
    "Manipulation\n",
    "------------\n",
    ".. autosummary::\n",
    "    :toctree: generated/\n",
    "\n",
    "\t~pymaid.cut_neuron\n",
    "\t~pymaid.reroot_neuron\n",
    "\t~pymaid.stitch_neurons\n",
    "\t~pymaid.split_axon_dendrite\n",
    "    ~pymaid.split_into_fragments\n",
    "\t~pymaid.longest_neurite\n",
    "\t~pymaid.prune_by_strahler\n",
    "    ~pymaid.subset_neuron\n",
    "    ~pymaid.average_neurons\n",
    "\n",
    "Resampling\n",
    "----------\n",
    ".. autosummary::\n",
    "    :toctree: generated/\n",
    "\n",
    "    ~pymaid.resample_neuron\n",
    "    ~pymaid.downsample_neuron\n",
    "\n",
    "Analysis\n",
    "--------\n",
    ".. autosummary::\n",
    "    :toctree: generated/\n",
    "\n",
    "    ~pymaid.arbor_confidence\n",
    "    ~pymaid.bending_flow\n",
    "    ~pymaid.calc_cable\n",
    "    ~pymaid.classify_nodes\n",
    "    ~pymaid.find_main_branchpoint\n",
    "    ~pymaid.flow_centrality\n",
    "    ~pymaid.segregation_index\n",
    "    ~pymaid.strahler_index\n",
    "\n",
    "Distances\n",
    "---------\n",
    ".. autosummary::\n",
    "    :toctree: generated/\n",
    "\n",
    "    ~pymaid.cable_overlap\n",
    "    ~pymaid.geodesic_matrix\n",
    "    ~pymaid.distal_to\n",
    "    ~pymaid.dist_between\n",
    "\n",
    "Intersection\n",
    "------------\n",
    ".. autosummary::\n",
    "    :toctree: generated/\n",
    "\n",
    "    ~pymaid.in_volume"
   ]
  }
 ],
 "metadata": {
  "celltoolbar": "Raw Cell Format",
  "kernelspec": {
   "display_name": "Python 3",
   "language": "python",
   "name": "python3"
  },
  "language_info": {
   "codemirror_mode": {
    "name": "ipython",
    "version": 3
   },
   "file_extension": ".py",
   "mimetype": "text/x-python",
   "name": "python",
   "nbconvert_exporter": "python",
   "pygments_lexer": "ipython3",
   "version": "3.5.3"
  }
 },
 "nbformat": 4,
 "nbformat_minor": 2
}
