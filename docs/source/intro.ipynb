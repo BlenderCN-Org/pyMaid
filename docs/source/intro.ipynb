{
 "cells": [
  {
   "cell_type": "raw",
   "metadata": {
    "raw_mimetype": "text/restructuredtext"
   },
   "source": [
    "Introduction\n",
    "************\n",
    "This section will teach you the basics of how to use PyMaid. If you are impatient check out the **Quickstart Guide** but I recommend having a look at the **Basics** too."
   ]
  },
  {
   "cell_type": "raw",
   "metadata": {
    "raw_mimetype": "text/restructuredtext"
   },
   "source": [
    "Quickstart Guide\n",
    "================\n",
    "At the beginning of each session, you have to initialise a :class:`~pymaid.CatmaidInstance` which holds the url and your credentials for the CATMAID server. In most examples, this instance is assigned to a variable called ``remote_instance`` or just ``rm``. Here we are requesting a list of two neurons from the server:"
   ]
  },
  {
   "cell_type": "code",
   "execution_count": 3,
   "metadata": {},
   "outputs": [
    {
     "name": "stderr",
     "output_type": "stream",
     "text": [
      "INFO  : Global CATMAID instance set. (pymaid.fetch)\n"
     ]
    }
   ],
   "source": [
    "import pymaid\n",
    "# HTTP_USER AND HTTP_PASSWORD are only necessary if your server \n",
    "# requires a http authentification\n",
    "rm = pymaid.CatmaidInstance( 'www.your.catmaid-server.org' , \n",
    "                              'HTTP_USER' , \n",
    "                              'HTTP_PASSWORD', \n",
    "                              'TOKEN' )"
   ]
  },
  {
   "cell_type": "code",
   "execution_count": 53,
   "metadata": {},
   "outputs": [
    {
     "data": {
      "application/vnd.jupyter.widget-view+json": {
       "model_id": "62fffbcd1baf4ee2835eedb83ec2fb6c"
      }
     },
     "metadata": {},
     "output_type": "display_data"
    },
    {
     "name": "stdout",
     "output_type": "stream",
     "text": [
      "\n"
     ]
    },
    {
     "data": {
      "application/vnd.jupyter.widget-view+json": {
       "model_id": "3f1f917983ed4573879fc03626b5bff3"
      }
     },
     "metadata": {},
     "output_type": "display_data"
    },
    {
     "name": "stdout",
     "output_type": "stream",
     "text": [
      "\n"
     ]
    },
    {
     "data": {
      "text/html": [
       "<div>\n",
       "<style scoped>\n",
       "    .dataframe tbody tr th:only-of-type {\n",
       "        vertical-align: middle;\n",
       "    }\n",
       "\n",
       "    .dataframe tbody tr th {\n",
       "        vertical-align: top;\n",
       "    }\n",
       "\n",
       "    .dataframe thead th {\n",
       "        text-align: right;\n",
       "    }\n",
       "</style>\n",
       "<table border=\"1\" class=\"dataframe\">\n",
       "  <thead>\n",
       "    <tr style=\"text-align: right;\">\n",
       "      <th></th>\n",
       "      <th>neuron_name</th>\n",
       "      <th>skeleton_id</th>\n",
       "      <th>n_nodes</th>\n",
       "      <th>n_connectors</th>\n",
       "      <th>n_branch_nodes</th>\n",
       "      <th>n_end_nodes</th>\n",
       "      <th>open_ends</th>\n",
       "      <th>cable_length</th>\n",
       "      <th>review_status</th>\n",
       "      <th>soma</th>\n",
       "    </tr>\n",
       "  </thead>\n",
       "  <tbody>\n",
       "    <tr>\n",
       "      <th>0</th>\n",
       "      <td>PN glomerulus DA1 57312 LK</td>\n",
       "      <td>57311</td>\n",
       "      <td>4874</td>\n",
       "      <td>421</td>\n",
       "      <td>156</td>\n",
       "      <td>163</td>\n",
       "      <td>105</td>\n",
       "      <td>1180.597489</td>\n",
       "      <td>NA</td>\n",
       "      <td>True</td>\n",
       "    </tr>\n",
       "    <tr>\n",
       "      <th>1</th>\n",
       "      <td>PN glomerulus DA1 27296 BH</td>\n",
       "      <td>27295</td>\n",
       "      <td>9969</td>\n",
       "      <td>463</td>\n",
       "      <td>211</td>\n",
       "      <td>218</td>\n",
       "      <td>58</td>\n",
       "      <td>1590.676589</td>\n",
       "      <td>NA</td>\n",
       "      <td>True</td>\n",
       "    </tr>\n",
       "  </tbody>\n",
       "</table>\n",
       "</div>"
      ],
      "text/plain": [
       "<class 'pymaid.core.CatmaidNeuronList'> of 2 neurons \n",
       "                   neuron_name skeleton_id  n_nodes  n_connectors  \\\n",
       "0  PN glomerulus DA1 57312 LK       57311     4874           421   \n",
       "1  PN glomerulus DA1 27296 BH       27295     9969           463   \n",
       "\n",
       "   n_branch_nodes  n_end_nodes  open_ends  cable_length review_status  soma  \n",
       "0             156          163        105   1180.597489            NA  True  \n",
       "1             211          218         58   1590.676589            NA  True  "
      ]
     },
     "execution_count": 53,
     "metadata": {},
     "output_type": "execute_result"
    }
   ],
   "source": [
    "# Get two neurons by their skeleton ID\n",
    "neuron_list = pymaid.get_neuron ( ['57311','27295'] )\n",
    "# Get a summary of neurons in the list\n",
    "neuron_list"
   ]
  },
  {
   "cell_type": "code",
   "execution_count": 5,
   "metadata": {},
   "outputs": [
    {
     "data": {
      "text/plain": [
       "type              <class 'pymaid.core.CatmaidNeuron'>\n",
       "neuron_name                PN glomerulus DA1 57312 LK\n",
       "skeleton_id                                     57311\n",
       "n_nodes                                          4874\n",
       "n_connectors                                      421\n",
       "n_branch_nodes                                    156\n",
       "n_end_nodes                                       163\n",
       "n_open_ends                                       105\n",
       "cable_length                                   1180.6\n",
       "review_status                                      NA\n",
       "soma                                          3059181\n",
       "dtype: object"
      ]
     },
     "execution_count": 5,
     "metadata": {},
     "output_type": "execute_result"
    }
   ],
   "source": [
    "# To access individual neurons, use neuron_list \n",
    "# like a normal list object\n",
    "neuron_list[0]"
   ]
  },
  {
   "cell_type": "code",
   "execution_count": 6,
   "metadata": {},
   "outputs": [
    {
     "data": {
      "application/vnd.jupyter.widget-view+json": {
       "model_id": "5ff152248b3547a3b825b75f9e76611d"
      }
     },
     "metadata": {},
     "output_type": "display_data"
    },
    {
     "name": "stdout",
     "output_type": "stream",
     "text": [
      "\n"
     ]
    },
    {
     "data": {
      "text/plain": [
       "90"
      ]
     },
     "execution_count": 6,
     "metadata": {},
     "output_type": "execute_result"
    }
   ],
   "source": [
    "# Note how some entries are \"False\" or \"NA\"?\n",
    "# These are still empty and will be retrieved/computed on-demand \n",
    "# upon first *explicit* request\n",
    "neuron_list[0].review_status"
   ]
  },
  {
   "cell_type": "raw",
   "metadata": {
    "raw_mimetype": "text/restructuredtext"
   },
   "source": [
    "Here, ``neuron_list`` is an instance of the :class:`~pymaid.CatmaidNeuronList` class and holds two neurons, both of which are of the :class:`~pymaid.CatmaidNeuron` class. Check out their documentation for methods and attributes!"
   ]
  },
  {
   "cell_type": "raw",
   "metadata": {
    "raw_mimetype": "text/restructuredtext"
   },
   "source": [
    "Plotting is easy and straight forward:"
   ]
  },
  {
   "cell_type": "code",
   "execution_count": null,
   "metadata": {
    "collapsed": true
   },
   "outputs": [],
   "source": [
    "# Interactive 3D plot\n",
    "neuron_list.plot3d()"
   ]
  },
  {
   "cell_type": "raw",
   "metadata": {
    "raw_mimetype": "text/restructuredtext"
   },
   "source": [
    "This method simply calls :func:`pymaid.plot3d` - check out the docs for which parameters you can pass along.\n",
    "\n",
    "By default, this uses Vispy to open a 3D window rendering the neurons and does NOT work from within Jupyter notebooks. For this you will have to use plotly as backend - please see **Plotting** for details!"
   ]
  },
  {
   "cell_type": "code",
   "execution_count": 55,
   "metadata": {},
   "outputs": [
    {
     "data": {
      "application/vnd.jupyter.widget-view+json": {
       "model_id": "e1f7f3137fed455cbff13ac037d45299"
      }
     },
     "metadata": {},
     "output_type": "display_data"
    },
    {
     "name": "stderr",
     "output_type": "stream",
     "text": [
      "INFO  : Done. Use matplotlib.pyplot.show() to show plot. (pymaid.plotting)\n"
     ]
    },
    {
     "name": "stdout",
     "output_type": "stream",
     "text": [
      "\r"
     ]
    },
    {
     "data": {
      "image/png": "[encoded data removed]",
      "text/plain": [
       "<matplotlib.figure.Figure at 0x116a95d30>"
      ]
     },
     "metadata": {},
     "output_type": "display_data"
    }
   ],
   "source": [
    "# Matplotlib 2D plot\n",
    "import matplotlib.pyplot as plt\n",
    "\n",
    "fig, ax = neuron_list.plot2d()\n",
    "plt.show()"
   ]
  },
  {
   "cell_type": "raw",
   "metadata": {
    "raw_mimetype": "text/restructuredtext"
   },
   "source": [
    "The Basics\n",
    "==========\n",
    "Neuron data is (in most cases) stored as :class:`~pymaid.CatmaidNeuron`. Multiple :class:`~pymaid.CatmaidNeuron` are grouped into :class:`~pymaid.CatmaidNeuronList`. \n",
    "\n",
    "You can minimally create an neuron object with just its skeleton ID:"
   ]
  },
  {
   "cell_type": "code",
   "execution_count": 9,
   "metadata": {},
   "outputs": [
    {
     "data": {
      "text/plain": [
       "type              <class 'pymaid.core.CatmaidNeuron'>\n",
       "neuron_name                                        NA\n",
       "skeleton_id                                        16\n",
       "n_nodes                                            NA\n",
       "n_connectors                                       NA\n",
       "n_branch_nodes                                     NA\n",
       "n_end_nodes                                        NA\n",
       "n_open_ends                                        NA\n",
       "cable_length                                       NA\n",
       "review_status                                      NA\n",
       "soma                                               NA\n",
       "dtype: object"
      ]
     },
     "execution_count": 9,
     "metadata": {},
     "output_type": "execute_result"
    }
   ],
   "source": [
    "import pymaid\n",
    "neuron = pymaid.CatmaidNeuron( 16 )\n",
    "neuron"
   ]
  },
  {
   "cell_type": "raw",
   "metadata": {
    "raw_mimetype": "text/restructuredtext"
   },
   "source": [
    "Attributes of this neuron are currently unavailable but will be retrieved from the server on-demand:"
   ]
  },
  {
   "cell_type": "code",
   "execution_count": 10,
   "metadata": {},
   "outputs": [
    {
     "data": {
      "text/plain": [
       "'PN glomerulus VA6 017 DB'"
      ]
     },
     "execution_count": 10,
     "metadata": {},
     "output_type": "execute_result"
    }
   ],
   "source": [
    "# Retrieve the name of the neuron on-demand\n",
    "neuron.neuron_name"
   ]
  },
  {
   "cell_type": "raw",
   "metadata": {
    "raw_mimetype": "text/restructuredtext"
   },
   "source": [
    "By default, a neuron will be using the global (usually the last created) :class:`~pymaid.CatmaidInstance`. You can however, assign individual CatmaidInstances to neurons:"
   ]
  },
  {
   "cell_type": "code",
   "execution_count": null,
   "metadata": {
    "collapsed": true
   },
   "outputs": [],
   "source": [
    "neuron.set_remote_instance( server_url = 'url', \n",
    "                            http_user = 'user', \n",
    "                            http_pw = 'pw', \n",
    "                            auth_token = 'token' ) "
   ]
  },
  {
   "cell_type": "raw",
   "metadata": {
    "raw_mimetype": "text/restructuredtext"
   },
   "source": [
    "Or just pass an existing CatmaidInstance:"
   ]
  },
  {
   "cell_type": "code",
   "execution_count": 12,
   "metadata": {},
   "outputs": [
    {
     "data": {
      "text/plain": [
       "type              <class 'pymaid.core.CatmaidNeuron'>\n",
       "neuron_name                                        NA\n",
       "skeleton_id                                        16\n",
       "n_nodes                                            NA\n",
       "n_connectors                                       NA\n",
       "n_branch_nodes                                     NA\n",
       "n_end_nodes                                        NA\n",
       "n_open_ends                                        NA\n",
       "cable_length                                       NA\n",
       "review_status                                      NA\n",
       "soma                                               NA\n",
       "dtype: object"
      ]
     },
     "execution_count": 12,
     "metadata": {},
     "output_type": "execute_result"
    }
   ],
   "source": [
    "neuron = pymaid.CatmaidNeuron( 16, remote_instance = rm )"
   ]
  },
  {
   "cell_type": "raw",
   "metadata": {
    "raw_mimetype": "text/restructuredtext"
   },
   "source": [
    "Some functions already return partial or complete neurons (e.g. :func:`~pymaid.get_neuron`):"
   ]
  },
  {
   "cell_type": "code",
   "execution_count": 14,
   "metadata": {},
   "outputs": [
    {
     "data": {
      "application/vnd.jupyter.widget-view+json": {
       "model_id": "e19424375caa42869a59e62da648575a"
      }
     },
     "metadata": {},
     "output_type": "display_data"
    },
    {
     "name": "stdout",
     "output_type": "stream",
     "text": [
      "\n"
     ]
    },
    {
     "data": {
      "text/plain": [
       "type              <class 'pymaid.core.CatmaidNeuron'>\n",
       "neuron_name                  PN glomerulus VA6 017 DB\n",
       "skeleton_id                                        16\n",
       "n_nodes                                         12735\n",
       "n_connectors                                     1984\n",
       "n_branch_nodes                                    774\n",
       "n_end_nodes                                       823\n",
       "n_open_ends                                       280\n",
       "cable_length                                  2865.99\n",
       "review_status                                      NA\n",
       "soma                                          2941309\n",
       "dtype: object"
      ]
     },
     "execution_count": 14,
     "metadata": {},
     "output_type": "execute_result"
    }
   ],
   "source": [
    "neuron = pymaid.get_neuron( 16, remote_instance = rm )\n",
    "neuron"
   ]
  },
  {
   "cell_type": "markdown",
   "metadata": {},
   "source": [
    "All functions that explicitly require you to pass a ``skids`` parameter (e.g. :func:`~pymaid.get_neuron`) accept either:\n",
    "\n",
    "1. skeleton IDs (int or str)\n",
    "2. neuron name (str, exact match)\n",
    "3. annotation: e.g. ``'annotation:PN right'``\n",
    "4. CatmaidNeuron or CatmaidNeuronList object\n",
    "\n",
    "Some examples:"
   ]
  },
  {
   "cell_type": "code",
   "execution_count": 17,
   "metadata": {},
   "outputs": [
    {
     "data": {
      "application/vnd.jupyter.widget-view+json": {
       "model_id": "ea9766f148204dc6adf9cc829bbe07a0"
      }
     },
     "metadata": {},
     "output_type": "display_data"
    },
    {
     "name": "stdout",
     "output_type": "stream",
     "text": [
      "\n"
     ]
    },
    {
     "data": {
      "application/vnd.jupyter.widget-view+json": {
       "model_id": "8a2c8766538d4b74a90f8eb526a99174"
      }
     },
     "metadata": {},
     "output_type": "display_data"
    },
    {
     "name": "stdout",
     "output_type": "stream",
     "text": [
      "\n"
     ]
    },
    {
     "name": "stderr",
     "output_type": "stream",
     "text": [
      "INFO  : Found 19 neurons matching the search parameters (pymaid.fetch)\n"
     ]
    }
   ],
   "source": [
    "# Create neuron list from annotation\n",
    "neuron_list = pymaid.find_neurons( annotations='glomerulus DA1' )"
   ]
  },
  {
   "cell_type": "code",
   "execution_count": 19,
   "metadata": {},
   "outputs": [
    {
     "name": "stderr",
     "output_type": "stream",
     "text": [
      "INFO  : Fetching connectivity (pymaid.fetch)\n",
      "INFO  : Done. Found 232 pre-, 831 postsynaptic and 0 gap junction-connected neurons (pymaid.fetch)\n"
     ]
    }
   ],
   "source": [
    "# Get partners of these neurons\n",
    "partners = pymaid.get_partners( neuron_list )"
   ]
  },
  {
   "cell_type": "raw",
   "metadata": {
    "raw_mimetype": "text/restructuredtext"
   },
   "source": [
    "# Advanced Stuff\n",
    "==============\n",
    "\n",
    "Connection to the server: CatmaidInstance\n",
    "-----------------------------------------\n",
    "As you instanciate :class:`~pymaid.CatmaidInstance`, it is made the default, \"global\" remote instance and you don't need to worry about it anymore."
   ]
  },
  {
   "cell_type": "code",
   "execution_count": 23,
   "metadata": {},
   "outputs": [
    {
     "name": "stderr",
     "output_type": "stream",
     "text": [
      "INFO  : Fetching connectivity (pymaid.fetch)\n",
      "INFO  : Done. Found 42 pre-, 309 postsynaptic and 0 gap junction-connected neurons (pymaid.fetch)\n"
     ]
    }
   ],
   "source": [
    "import pymaid\n",
    "rm = pymaid.CatmaidInstance( 'server_url', \n",
    "                             'http_user', \n",
    "                             'http_pw', \n",
    "                             'auth_token')\n",
    "partners = pymaid.get_partners( [57311,27295] )"
   ]
  },
  {
   "cell_type": "code",
   "execution_count": 22,
   "metadata": {},
   "outputs": [
    {
     "name": "stderr",
     "output_type": "stream",
     "text": [
      "INFO  : Global CATMAID instance set. (pymaid.fetch)\n"
     ]
    }
   ],
   "source": [
    "rm = connect_adult_em()"
   ]
  },
  {
   "cell_type": "raw",
   "metadata": {
    "raw_mimetype": "text/restructuredtext"
   },
   "source": [
    "However, if you - for example - are working with two separate servers or projects, you can pass a :class:`~pymaid.CatmaidInstance` explicitly to a function. This will overule any globally defined remote instance:"
   ]
  },
  {
   "cell_type": "code",
   "execution_count": null,
   "metadata": {
    "collapsed": true
   },
   "outputs": [],
   "source": [
    "import pymaid\n",
    "rm2 = pymaid.CatmaidInstance( 'server_url2', \n",
    "                              'http_user2', \n",
    "                              'http_pw2', \n",
    "                              'auth_token2', \n",
    "                               set_global=False )\n",
    "partners = pymaid.get_partners( [57311,27295], \n",
    "                                remote_instance = rm2 )"
   ]
  },
  {
   "cell_type": "raw",
   "metadata": {
    "raw_mimetype": "text/restructuredtext"
   },
   "source": [
    "You can manually make a remote instance the global one:"
   ]
  },
  {
   "cell_type": "code",
   "execution_count": null,
   "metadata": {
    "collapsed": true
   },
   "outputs": [],
   "source": [
    "rm2.set_global()"
   ]
  },
  {
   "cell_type": "raw",
   "metadata": {
    "raw_mimetype": "text/restructuredtext"
   },
   "source": [
    "The project ID is part of the CatmaidInstance and defaults to 1. You can change this either when initializing or later on-the-fly:"
   ]
  },
  {
   "cell_type": "code",
   "execution_count": null,
   "metadata": {
    "collapsed": true
   },
   "outputs": [],
   "source": [
    "# Initialise with project_id 2 (default = 1)\n",
    "rm = pymaid.CatmaidInstance( 'server_url', \n",
    "                             'http_user', \n",
    "                             'http_pw', \n",
    "                             'auth_token', \n",
    "                              project_id = 2 )\n",
    "# Change project_id on-the-fly\n",
    "rm.project_id = 1"
   ]
  },
  {
   "cell_type": "raw",
   "metadata": {
    "raw_mimetype": "text/restructuredtext"
   },
   "source": [
    ":class:`~pymaid.CatmaidNeuron` and :class:`~pymaid.CatmaidNeuronList` objects will store a CatmaidInstance and use it to pull data from the server on-demand:"
   ]
  },
  {
   "cell_type": "code",
   "execution_count": null,
   "metadata": {
    "collapsed": true
   },
   "outputs": [],
   "source": [
    "import pymaid\n",
    "rm = pymaid.CatmaidInstance( 'www.your.catmaid-server.org' , \n",
    "                             'HTTP_USER' , \n",
    "                             'HTTP_PASSWORD', \n",
    "                             'TOKEN' )\n",
    "# Initialise explicitely with a CatmaidInstance\n",
    "nl = pymaid.CatmaidNeuronList( [57311,27295], remote_instance = rm )\n",
    "# Initialise without and add later\n",
    "nl = pymaid.CatmaidNeuronList( [57311,27295] )\n",
    "nl.set_remote_instance(rm)\n",
    "# Alternatively\n",
    "nl.set_remote_instance( server_url = 'www.your.catmaid-server.org', \n",
    "                        http_user = 'HTTP_USER', \n",
    "                        http_pw = 'HTTP_PASSWORD', \n",
    "                        auth_token = 'TOKEN' ) "
   ]
  },
  {
   "cell_type": "raw",
   "metadata": {
    "raw_mimetype": "text/restructuredtext"
   },
   "source": [
    "If not specified, will *always* fall back to the globally defined CatmaidInstance!"
   ]
  },
  {
   "cell_type": "raw",
   "metadata": {
    "raw_mimetype": "text/restructuredtext"
   },
   "source": [
    "CatmaidNeuron and CatmaidNeuronList objects\n",
    "-------------------------------------------\n",
    "\n",
    "Accessing data\n",
    "++++++++++++++\n",
    "\n",
    "As laid out in the Quickstart, :class:`~pymaid.CatmaidNeuron` can be initialised with just a skeleton ID and the rest will then be requested/calculated on-demand:"
   ]
  },
  {
   "cell_type": "code",
   "execution_count": 27,
   "metadata": {
    "collapsed": true
   },
   "outputs": [],
   "source": [
    "import pymaid\n",
    "# Initialize a new neuron\n",
    "n = pymaid.CatmaidNeuron( 16 ) \n",
    "# Initialize Catmaid connections\n",
    "rm = pymaid.CatmaidInstance(server_url, http_user, http_pw, token) \n",
    "# Add CatmaidInstance to the neuron for convenience    \n",
    "n.set_remote_instance(rm) "
   ]
  },
  {
   "cell_type": "raw",
   "metadata": {
    "raw_mimetype": "text/restructuredtext"
   },
   "source": [
    "To access any of the data stored in a CatmaidNeuron simply use:"
   ]
  },
  {
   "cell_type": "code",
   "execution_count": 28,
   "metadata": {},
   "outputs": [
    {
     "name": "stderr",
     "output_type": "stream",
     "text": [
      "INFO  : Retrieving skeleton data... (pymaid.core)\n"
     ]
    },
    {
     "data": {
      "application/vnd.jupyter.widget-view+json": {
       "model_id": "9dbf2c64535d489383b8d9a4d406b60d"
      }
     },
     "metadata": {},
     "output_type": "display_data"
    },
    {
     "name": "stdout",
     "output_type": "stream",
     "text": [
      "\n"
     ]
    },
    {
     "data": {
      "text/html": [
       "<div>\n",
       "<style scoped>\n",
       "    .dataframe tbody tr th:only-of-type {\n",
       "        vertical-align: middle;\n",
       "    }\n",
       "\n",
       "    .dataframe tbody tr th {\n",
       "        vertical-align: top;\n",
       "    }\n",
       "\n",
       "    .dataframe thead th {\n",
       "        text-align: right;\n",
       "    }\n",
       "</style>\n",
       "<table border=\"1\" class=\"dataframe\">\n",
       "  <thead>\n",
       "    <tr style=\"text-align: right;\">\n",
       "      <th></th>\n",
       "      <th>treenode_id</th>\n",
       "      <th>parent_id</th>\n",
       "      <th>creator_id</th>\n",
       "      <th>x</th>\n",
       "      <th>y</th>\n",
       "      <th>z</th>\n",
       "      <th>radius</th>\n",
       "      <th>confidence</th>\n",
       "      <th>type</th>\n",
       "    </tr>\n",
       "  </thead>\n",
       "  <tbody>\n",
       "    <tr>\n",
       "      <th>0</th>\n",
       "      <td>72</td>\n",
       "      <td>71</td>\n",
       "      <td>2</td>\n",
       "      <td>476776</td>\n",
       "      <td>146627</td>\n",
       "      <td>170320</td>\n",
       "      <td>-1</td>\n",
       "      <td>5</td>\n",
       "      <td>slab</td>\n",
       "    </tr>\n",
       "    <tr>\n",
       "      <th>1</th>\n",
       "      <td>1631</td>\n",
       "      <td>1630</td>\n",
       "      <td>2</td>\n",
       "      <td>438630</td>\n",
       "      <td>136225</td>\n",
       "      <td>196920</td>\n",
       "      <td>-1</td>\n",
       "      <td>5</td>\n",
       "      <td>slab</td>\n",
       "    </tr>\n",
       "    <tr>\n",
       "      <th>2</th>\n",
       "      <td>125055</td>\n",
       "      <td>125054</td>\n",
       "      <td>12</td>\n",
       "      <td>442271</td>\n",
       "      <td>140503</td>\n",
       "      <td>196920</td>\n",
       "      <td>-1</td>\n",
       "      <td>5</td>\n",
       "      <td>slab</td>\n",
       "    </tr>\n",
       "    <tr>\n",
       "      <th>3</th>\n",
       "      <td>217</td>\n",
       "      <td>216</td>\n",
       "      <td>2</td>\n",
       "      <td>465438</td>\n",
       "      <td>140646</td>\n",
       "      <td>176160</td>\n",
       "      <td>-1</td>\n",
       "      <td>5</td>\n",
       "      <td>slab</td>\n",
       "    </tr>\n",
       "    <tr>\n",
       "      <th>4</th>\n",
       "      <td>128575</td>\n",
       "      <td>128576</td>\n",
       "      <td>12</td>\n",
       "      <td>491027</td>\n",
       "      <td>170701</td>\n",
       "      <td>149040</td>\n",
       "      <td>-1</td>\n",
       "      <td>5</td>\n",
       "      <td>slab</td>\n",
       "    </tr>\n",
       "  </tbody>\n",
       "</table>\n",
       "</div>"
      ],
      "text/plain": [
       "   treenode_id parent_id  creator_id       x       y       z  radius  \\\n",
       "0           72        71           2  476776  146627  170320      -1   \n",
       "1         1631      1630           2  438630  136225  196920      -1   \n",
       "2       125055    125054          12  442271  140503  196920      -1   \n",
       "3          217       216           2  465438  140646  176160      -1   \n",
       "4       128575    128576          12  491027  170701  149040      -1   \n",
       "\n",
       "   confidence  type  \n",
       "0           5  slab  \n",
       "1           5  slab  \n",
       "2           5  slab  \n",
       "3           5  slab  \n",
       "4           5  slab  "
      ]
     },
     "execution_count": 28,
     "metadata": {},
     "output_type": "execute_result"
    }
   ],
   "source": [
    "# Retrieve node data from server on-demand\n",
    "n.nodes.head() "
   ]
  },
  {
   "cell_type": "raw",
   "metadata": {
    "raw_mimetype": "text/restructuredtext"
   },
   "source": [
    "You might have noticed that nodes are stored as pandas.DataFrame. That allows some fancy indexing and processing!"
   ]
  },
  {
   "cell_type": "code",
   "execution_count": 29,
   "metadata": {},
   "outputs": [
    {
     "data": {
      "text/html": [
       "<div>\n",
       "<style scoped>\n",
       "    .dataframe tbody tr th:only-of-type {\n",
       "        vertical-align: middle;\n",
       "    }\n",
       "\n",
       "    .dataframe tbody tr th {\n",
       "        vertical-align: top;\n",
       "    }\n",
       "\n",
       "    .dataframe thead th {\n",
       "        text-align: right;\n",
       "    }\n",
       "</style>\n",
       "<table border=\"1\" class=\"dataframe\">\n",
       "  <thead>\n",
       "    <tr style=\"text-align: right;\">\n",
       "      <th></th>\n",
       "      <th>treenode_id</th>\n",
       "      <th>parent_id</th>\n",
       "      <th>creator_id</th>\n",
       "      <th>x</th>\n",
       "      <th>y</th>\n",
       "      <th>z</th>\n",
       "      <th>radius</th>\n",
       "      <th>confidence</th>\n",
       "      <th>type</th>\n",
       "    </tr>\n",
       "  </thead>\n",
       "  <tbody>\n",
       "    <tr>\n",
       "      <th>12722</th>\n",
       "      <td>2941309</td>\n",
       "      <td>None</td>\n",
       "      <td>4</td>\n",
       "      <td>451292</td>\n",
       "      <td>205574</td>\n",
       "      <td>23800</td>\n",
       "      <td>4039</td>\n",
       "      <td>5</td>\n",
       "      <td>root</td>\n",
       "    </tr>\n",
       "  </tbody>\n",
       "</table>\n",
       "</div>"
      ],
      "text/plain": [
       "       treenode_id parent_id  creator_id       x       y      z  radius  \\\n",
       "12722      2941309      None           4  451292  205574  23800    4039   \n",
       "\n",
       "       confidence  type  \n",
       "12722           5  root  "
      ]
     },
     "execution_count": 29,
     "metadata": {},
     "output_type": "execute_result"
    }
   ],
   "source": [
    "# Get all nodes with radius larger than -1\n",
    "n.nodes[ n.nodes.radius > 1 ]"
   ]
  },
  {
   "cell_type": "raw",
   "metadata": {
    "raw_mimetype": "text/restructuredtext"
   },
   "source": [
    "Other data, such as annotations are stored as simple lists."
   ]
  },
  {
   "cell_type": "code",
   "execution_count": 31,
   "metadata": {},
   "outputs": [
    {
     "data": {
      "text/plain": [
       "['WTPN2017_olfactory_uPN_right',\n",
       " 'SCHLEGEL_LHN_Nov2017',\n",
       " 'WT Meeting 11/2017',\n",
       " 'FML - upstream of LH.R DL4 PN',\n",
       " 'right',\n",
       " 'Couto et al 1 Glomerulus',\n",
       " 'LHN_JUNE_2017',\n",
       " 'uPN right',\n",
       " 'KCaBc PN',\n",
       " 'WTPN2017_uPN']"
      ]
     },
     "execution_count": 31,
     "metadata": {},
     "output_type": "execute_result"
    }
   ],
   "source": [
    "n.annotations[:10]"
   ]
  },
  {
   "cell_type": "raw",
   "metadata": {
    "raw_mimetype": "text/restructuredtext"
   },
   "source": [
    "All this data is loaded once upon the first explicit request and then stored in the CatmaidNeuron object. You can force updates by using the ``get`` functions:"
   ]
  },
  {
   "cell_type": "code",
   "execution_count": 35,
   "metadata": {},
   "outputs": [
    {
     "data": {
      "text/plain": [
       "['WTPN2017_olfactory_uPN_right', 'SCHLEGEL_LHN_Nov2017', 'WT Meeting 11/2017']"
      ]
     },
     "execution_count": 35,
     "metadata": {},
     "output_type": "execute_result"
    }
   ],
   "source": [
    "n.get_annotations()\n",
    "n.annotations[:3]"
   ]
  },
  {
   "cell_type": "raw",
   "metadata": {
    "raw_mimetype": "text/restructuredtext"
   },
   "source": [
    "Attributes in :class:`~pymaid.CatmaidNeuronList` work much the same way but instead you will get that data for all neurons that are within that neuron list."
   ]
  },
  {
   "cell_type": "code",
   "execution_count": 36,
   "metadata": {},
   "outputs": [
    {
     "data": {
      "application/vnd.jupyter.widget-view+json": {
       "model_id": "d5ff1b8669a84c17860da57fcfef9b2b"
      }
     },
     "metadata": {},
     "output_type": "display_data"
    },
    {
     "name": "stdout",
     "output_type": "stream",
     "text": [
      "\n"
     ]
    },
    {
     "data": {
      "text/plain": [
       "array(['57311', '27295'],\n",
       "      dtype='<U5')"
      ]
     },
     "execution_count": 36,
     "metadata": {},
     "output_type": "execute_result"
    }
   ],
   "source": [
    "nl = pymaid.CatmaidNeuronList( [57311,27295] ) \n",
    "nl.skeleton_id"
   ]
  },
  {
   "cell_type": "code",
   "execution_count": 38,
   "metadata": {},
   "outputs": [
    {
     "data": {
      "text/plain": [
       "array([90, 89])"
      ]
     },
     "execution_count": 38,
     "metadata": {},
     "output_type": "execute_result"
    }
   ],
   "source": [
    "nl.review_status"
   ]
  },
  {
   "cell_type": "raw",
   "metadata": {
    "raw_mimetype": "text/restructuredtext"
   },
   "source": [
    "Indexing CatmaidNeuronLists\n",
    "+++++++++++++++++++++++++++\n",
    "\n",
    ":class:`~pymaid.CatmaidNeuronList` are designed to behave similar to pandas DataFrames in that they allow some fancing indexing"
   ]
  },
  {
   "cell_type": "code",
   "execution_count": 39,
   "metadata": {},
   "outputs": [
    {
     "data": {
      "application/vnd.jupyter.widget-view+json": {
       "model_id": "7c862a0f7ebc44fd9e29be9ca33e8990"
      }
     },
     "metadata": {},
     "output_type": "display_data"
    },
    {
     "name": "stdout",
     "output_type": "stream",
     "text": [
      "\n"
     ]
    }
   ],
   "source": [
    "# Initialize with just a Skeleton ID \n",
    "nl = pymaid.CatmaidNeuronList( [57311,27295] )"
   ]
  },
  {
   "cell_type": "code",
   "execution_count": 41,
   "metadata": {},
   "outputs": [
    {
     "data": {
      "text/html": [
       "<div>\n",
       "<style scoped>\n",
       "    .dataframe tbody tr th:only-of-type {\n",
       "        vertical-align: middle;\n",
       "    }\n",
       "\n",
       "    .dataframe tbody tr th {\n",
       "        vertical-align: top;\n",
       "    }\n",
       "\n",
       "    .dataframe thead th {\n",
       "        text-align: right;\n",
       "    }\n",
       "</style>\n",
       "<table border=\"1\" class=\"dataframe\">\n",
       "  <thead>\n",
       "    <tr style=\"text-align: right;\">\n",
       "      <th></th>\n",
       "      <th>neuron_name</th>\n",
       "      <th>skeleton_id</th>\n",
       "      <th>n_nodes</th>\n",
       "      <th>n_connectors</th>\n",
       "      <th>n_branch_nodes</th>\n",
       "      <th>n_end_nodes</th>\n",
       "      <th>open_ends</th>\n",
       "      <th>cable_length</th>\n",
       "      <th>review_status</th>\n",
       "      <th>soma</th>\n",
       "    </tr>\n",
       "  </thead>\n",
       "  <tbody>\n",
       "    <tr>\n",
       "      <th>0</th>\n",
       "      <td>PN glomerulus DA1 27296 BH</td>\n",
       "      <td>27295</td>\n",
       "      <td>9969</td>\n",
       "      <td>463</td>\n",
       "      <td>211</td>\n",
       "      <td>218</td>\n",
       "      <td>58</td>\n",
       "      <td>1590.676589</td>\n",
       "      <td>NA</td>\n",
       "      <td>True</td>\n",
       "    </tr>\n",
       "  </tbody>\n",
       "</table>\n",
       "</div>"
      ],
      "text/plain": [
       "<class 'pymaid.core.CatmaidNeuronList'> of 1 neurons \n",
       "                   neuron_name skeleton_id  n_nodes  n_connectors  \\\n",
       "0  PN glomerulus DA1 27296 BH       27295     9969           463   \n",
       "\n",
       "   n_branch_nodes  n_end_nodes  open_ends  cable_length review_status  soma  \n",
       "0             211          218         58   1590.676589            NA  True  "
      ]
     },
     "execution_count": 41,
     "metadata": {},
     "output_type": "execute_result"
    }
   ],
   "source": [
    "# Index using node count\n",
    "subset = nl [ nl.n_nodes > 6000 ]\n",
    "subset"
   ]
  },
  {
   "cell_type": "code",
   "execution_count": 42,
   "metadata": {},
   "outputs": [
    {
     "data": {
      "text/plain": [
       "type              <class 'pymaid.core.CatmaidNeuron'>\n",
       "neuron_name                PN glomerulus DA1 57312 LK\n",
       "skeleton_id                                     57311\n",
       "n_nodes                                          4874\n",
       "n_connectors                                      421\n",
       "n_branch_nodes                                    156\n",
       "n_end_nodes                                       163\n",
       "n_open_ends                                       105\n",
       "cable_length                                   1180.6\n",
       "review_status                                      NA\n",
       "soma                                          3059181\n",
       "dtype: object"
      ]
     },
     "execution_count": 42,
     "metadata": {},
     "output_type": "execute_result"
    }
   ],
   "source": [
    "# Index by skeleton ID \n",
    "subset = nl.skid [ '57311' ]\n",
    "subset"
   ]
  },
  {
   "cell_type": "code",
   "execution_count": 46,
   "metadata": {},
   "outputs": [
    {
     "data": {
      "application/vnd.jupyter.widget-view+json": {
       "model_id": "ee2bde8c2305414ea64b5d0f33c95cc4"
      }
     },
     "metadata": {},
     "output_type": "display_data"
    },
    {
     "name": "stdout",
     "output_type": "stream",
     "text": [
      "\n"
     ]
    },
    {
     "data": {
      "text/html": [
       "<div>\n",
       "<style scoped>\n",
       "    .dataframe tbody tr th:only-of-type {\n",
       "        vertical-align: middle;\n",
       "    }\n",
       "\n",
       "    .dataframe tbody tr th {\n",
       "        vertical-align: top;\n",
       "    }\n",
       "\n",
       "    .dataframe thead th {\n",
       "        text-align: right;\n",
       "    }\n",
       "</style>\n",
       "<table border=\"1\" class=\"dataframe\">\n",
       "  <thead>\n",
       "    <tr style=\"text-align: right;\">\n",
       "      <th></th>\n",
       "      <th>neuron_name</th>\n",
       "      <th>skeleton_id</th>\n",
       "      <th>n_nodes</th>\n",
       "      <th>n_connectors</th>\n",
       "      <th>n_branch_nodes</th>\n",
       "      <th>n_end_nodes</th>\n",
       "      <th>open_ends</th>\n",
       "      <th>cable_length</th>\n",
       "      <th>review_status</th>\n",
       "      <th>soma</th>\n",
       "    </tr>\n",
       "  </thead>\n",
       "  <tbody>\n",
       "    <tr>\n",
       "      <th>0</th>\n",
       "      <td>PN glomerulus DA1 57312 LK</td>\n",
       "      <td>57311</td>\n",
       "      <td>4874</td>\n",
       "      <td>421</td>\n",
       "      <td>156</td>\n",
       "      <td>163</td>\n",
       "      <td>105</td>\n",
       "      <td>1180.597489</td>\n",
       "      <td>NA</td>\n",
       "      <td>True</td>\n",
       "    </tr>\n",
       "    <tr>\n",
       "      <th>1</th>\n",
       "      <td>PN glomerulus DA1 27296 BH</td>\n",
       "      <td>27295</td>\n",
       "      <td>9969</td>\n",
       "      <td>463</td>\n",
       "      <td>211</td>\n",
       "      <td>218</td>\n",
       "      <td>58</td>\n",
       "      <td>1590.676589</td>\n",
       "      <td>NA</td>\n",
       "      <td>True</td>\n",
       "    </tr>\n",
       "  </tbody>\n",
       "</table>\n",
       "</div>"
      ],
      "text/plain": [
       "<class 'pymaid.core.CatmaidNeuronList'> of 2 neurons \n",
       "                   neuron_name skeleton_id  n_nodes  n_connectors  \\\n",
       "0  PN glomerulus DA1 57312 LK       57311     4874           421   \n",
       "1  PN glomerulus DA1 27296 BH       27295     9969           463   \n",
       "\n",
       "   n_branch_nodes  n_end_nodes  open_ends  cable_length review_status  soma  \n",
       "0             156          163        105   1180.597489            NA  True  \n",
       "1             211          218         58   1590.676589            NA  True  "
      ]
     },
     "execution_count": 46,
     "metadata": {},
     "output_type": "execute_result"
    }
   ],
   "source": [
    "# Index by list of skeleton IDs\n",
    "subset = nl.skid [ [57311,27295] ]\n",
    "subset"
   ]
  },
  {
   "cell_type": "code",
   "execution_count": 44,
   "metadata": {},
   "outputs": [
    {
     "data": {
      "text/html": [
       "<div>\n",
       "<style scoped>\n",
       "    .dataframe tbody tr th:only-of-type {\n",
       "        vertical-align: middle;\n",
       "    }\n",
       "\n",
       "    .dataframe tbody tr th {\n",
       "        vertical-align: top;\n",
       "    }\n",
       "\n",
       "    .dataframe thead th {\n",
       "        text-align: right;\n",
       "    }\n",
       "</style>\n",
       "<table border=\"1\" class=\"dataframe\">\n",
       "  <thead>\n",
       "    <tr style=\"text-align: right;\">\n",
       "      <th></th>\n",
       "      <th>neuron_name</th>\n",
       "      <th>skeleton_id</th>\n",
       "      <th>n_nodes</th>\n",
       "      <th>n_connectors</th>\n",
       "      <th>n_branch_nodes</th>\n",
       "      <th>n_end_nodes</th>\n",
       "      <th>open_ends</th>\n",
       "      <th>cable_length</th>\n",
       "      <th>review_status</th>\n",
       "      <th>soma</th>\n",
       "    </tr>\n",
       "  </thead>\n",
       "  <tbody>\n",
       "    <tr>\n",
       "      <th>0</th>\n",
       "      <td>PN glomerulus DA1 27296 BH</td>\n",
       "      <td>27295</td>\n",
       "      <td>9969</td>\n",
       "      <td>463</td>\n",
       "      <td>211</td>\n",
       "      <td>218</td>\n",
       "      <td>58</td>\n",
       "      <td>1590.676589</td>\n",
       "      <td>NA</td>\n",
       "      <td>True</td>\n",
       "    </tr>\n",
       "  </tbody>\n",
       "</table>\n",
       "</div>"
      ],
      "text/plain": [
       "<class 'pymaid.core.CatmaidNeuronList'> of 1 neurons \n",
       "                   neuron_name skeleton_id  n_nodes  n_connectors  \\\n",
       "0  PN glomerulus DA1 27296 BH       27295     9969           463   \n",
       "\n",
       "   n_branch_nodes  n_end_nodes  open_ends  cable_length review_status  soma  \n",
       "0             211          218         58   1590.676589            NA  True  "
      ]
     },
     "execution_count": 44,
     "metadata": {},
     "output_type": "execute_result"
    }
   ],
   "source": [
    "# Index by neuron name\n",
    "subset = nl [ 'PN glomerulus DA1 27296 BH' ]\n",
    "subset"
   ]
  },
  {
   "cell_type": "code",
   "execution_count": 47,
   "metadata": {},
   "outputs": [
    {
     "data": {
      "text/html": [
       "<div>\n",
       "<style scoped>\n",
       "    .dataframe tbody tr th:only-of-type {\n",
       "        vertical-align: middle;\n",
       "    }\n",
       "\n",
       "    .dataframe tbody tr th {\n",
       "        vertical-align: top;\n",
       "    }\n",
       "\n",
       "    .dataframe thead th {\n",
       "        text-align: right;\n",
       "    }\n",
       "</style>\n",
       "<table border=\"1\" class=\"dataframe\">\n",
       "  <thead>\n",
       "    <tr style=\"text-align: right;\">\n",
       "      <th></th>\n",
       "      <th>neuron_name</th>\n",
       "      <th>skeleton_id</th>\n",
       "      <th>n_nodes</th>\n",
       "      <th>n_connectors</th>\n",
       "      <th>n_branch_nodes</th>\n",
       "      <th>n_end_nodes</th>\n",
       "      <th>open_ends</th>\n",
       "      <th>cable_length</th>\n",
       "      <th>review_status</th>\n",
       "      <th>soma</th>\n",
       "    </tr>\n",
       "  </thead>\n",
       "  <tbody>\n",
       "    <tr>\n",
       "      <th>0</th>\n",
       "      <td>PN glomerulus DA1 57312 LK</td>\n",
       "      <td>57311</td>\n",
       "      <td>4874</td>\n",
       "      <td>421</td>\n",
       "      <td>156</td>\n",
       "      <td>163</td>\n",
       "      <td>105</td>\n",
       "      <td>1180.597489</td>\n",
       "      <td>NA</td>\n",
       "      <td>True</td>\n",
       "    </tr>\n",
       "    <tr>\n",
       "      <th>1</th>\n",
       "      <td>PN glomerulus DA1 27296 BH</td>\n",
       "      <td>27295</td>\n",
       "      <td>9969</td>\n",
       "      <td>463</td>\n",
       "      <td>211</td>\n",
       "      <td>218</td>\n",
       "      <td>58</td>\n",
       "      <td>1590.676589</td>\n",
       "      <td>NA</td>\n",
       "      <td>True</td>\n",
       "    </tr>\n",
       "  </tbody>\n",
       "</table>\n",
       "</div>"
      ],
      "text/plain": [
       "<class 'pymaid.core.CatmaidNeuronList'> of 2 neurons \n",
       "                   neuron_name skeleton_id  n_nodes  n_connectors  \\\n",
       "0  PN glomerulus DA1 57312 LK       57311     4874           421   \n",
       "1  PN glomerulus DA1 27296 BH       27295     9969           463   \n",
       "\n",
       "   n_branch_nodes  n_end_nodes  open_ends  cable_length review_status  soma  \n",
       "0             156          163        105   1180.597489            NA  True  \n",
       "1             211          218         58   1590.676589            NA  True  "
      ]
     },
     "execution_count": 47,
     "metadata": {},
     "output_type": "execute_result"
    }
   ],
   "source": [
    "# Index by annotation\n",
    "subset = nl.has_annotation( 'LH_DONE', intersect=False )\n",
    "subset"
   ]
  },
  {
   "cell_type": "code",
   "execution_count": 48,
   "metadata": {},
   "outputs": [
    {
     "data": {
      "application/vnd.jupyter.widget-view+json": {
       "model_id": "7830fa29d6324746a14b84c69d7a29f2"
      }
     },
     "metadata": {},
     "output_type": "display_data"
    },
    {
     "name": "stdout",
     "output_type": "stream",
     "text": [
      "\n"
     ]
    },
    {
     "data": {
      "text/html": [
       "<div>\n",
       "<style scoped>\n",
       "    .dataframe tbody tr th:only-of-type {\n",
       "        vertical-align: middle;\n",
       "    }\n",
       "\n",
       "    .dataframe tbody tr th {\n",
       "        vertical-align: top;\n",
       "    }\n",
       "\n",
       "    .dataframe thead th {\n",
       "        text-align: right;\n",
       "    }\n",
       "</style>\n",
       "<table border=\"1\" class=\"dataframe\">\n",
       "  <thead>\n",
       "    <tr style=\"text-align: right;\">\n",
       "      <th></th>\n",
       "      <th>neuron_name</th>\n",
       "      <th>skeleton_id</th>\n",
       "      <th>n_nodes</th>\n",
       "      <th>n_connectors</th>\n",
       "      <th>n_branch_nodes</th>\n",
       "      <th>n_end_nodes</th>\n",
       "      <th>open_ends</th>\n",
       "      <th>cable_length</th>\n",
       "      <th>review_status</th>\n",
       "      <th>soma</th>\n",
       "    </tr>\n",
       "  </thead>\n",
       "  <tbody>\n",
       "    <tr>\n",
       "      <th>0</th>\n",
       "      <td>PN glomerulus DA1 57312 LK</td>\n",
       "      <td>57311</td>\n",
       "      <td>4874</td>\n",
       "      <td>421</td>\n",
       "      <td>156</td>\n",
       "      <td>163</td>\n",
       "      <td>105</td>\n",
       "      <td>1180.597489</td>\n",
       "      <td>NA</td>\n",
       "      <td>True</td>\n",
       "    </tr>\n",
       "    <tr>\n",
       "      <th>1</th>\n",
       "      <td>PN glomerulus DA1 27296 BH</td>\n",
       "      <td>27295</td>\n",
       "      <td>9969</td>\n",
       "      <td>463</td>\n",
       "      <td>211</td>\n",
       "      <td>218</td>\n",
       "      <td>58</td>\n",
       "      <td>1590.676589</td>\n",
       "      <td>NA</td>\n",
       "      <td>True</td>\n",
       "    </tr>\n",
       "    <tr>\n",
       "      <th>2</th>\n",
       "      <td>PN glomerulus VA6 017 DB</td>\n",
       "      <td>16</td>\n",
       "      <td>12735</td>\n",
       "      <td>1984</td>\n",
       "      <td>774</td>\n",
       "      <td>823</td>\n",
       "      <td>280</td>\n",
       "      <td>2865.992029</td>\n",
       "      <td>NA</td>\n",
       "      <td>True</td>\n",
       "    </tr>\n",
       "  </tbody>\n",
       "</table>\n",
       "</div>"
      ],
      "text/plain": [
       "<class 'pymaid.core.CatmaidNeuronList'> of 3 neurons \n",
       "                   neuron_name skeleton_id  n_nodes  n_connectors  \\\n",
       "0  PN glomerulus DA1 57312 LK       57311     4874           421   \n",
       "1  PN glomerulus DA1 27296 BH       27295     9969           463   \n",
       "2    PN glomerulus VA6 017 DB          16    12735          1984   \n",
       "\n",
       "   n_branch_nodes  n_end_nodes  open_ends  cable_length review_status  soma  \n",
       "0             156          163        105   1180.597489            NA  True  \n",
       "1             211          218         58   1590.676589            NA  True  \n",
       "2             774          823        280   2865.992029            NA  True  "
      ]
     },
     "execution_count": 48,
     "metadata": {},
     "output_type": "execute_result"
    }
   ],
   "source": [
    "# Concatenate lists\n",
    "nl += pymaid.get_neuron( [ 16 ] )\n",
    "nl"
   ]
  },
  {
   "cell_type": "code",
   "execution_count": 51,
   "metadata": {},
   "outputs": [
    {
     "data": {
      "text/html": [
       "<div>\n",
       "<style scoped>\n",
       "    .dataframe tbody tr th:only-of-type {\n",
       "        vertical-align: middle;\n",
       "    }\n",
       "\n",
       "    .dataframe tbody tr th {\n",
       "        vertical-align: top;\n",
       "    }\n",
       "\n",
       "    .dataframe thead th {\n",
       "        text-align: right;\n",
       "    }\n",
       "</style>\n",
       "<table border=\"1\" class=\"dataframe\">\n",
       "  <thead>\n",
       "    <tr style=\"text-align: right;\">\n",
       "      <th></th>\n",
       "      <th>neuron_name</th>\n",
       "      <th>skeleton_id</th>\n",
       "      <th>n_nodes</th>\n",
       "      <th>n_connectors</th>\n",
       "      <th>n_branch_nodes</th>\n",
       "      <th>n_end_nodes</th>\n",
       "      <th>open_ends</th>\n",
       "      <th>cable_length</th>\n",
       "      <th>review_status</th>\n",
       "      <th>soma</th>\n",
       "    </tr>\n",
       "  </thead>\n",
       "  <tbody>\n",
       "    <tr>\n",
       "      <th>0</th>\n",
       "      <td>PN glomerulus DA1 57312 LK</td>\n",
       "      <td>57311</td>\n",
       "      <td>4874</td>\n",
       "      <td>421</td>\n",
       "      <td>156</td>\n",
       "      <td>163</td>\n",
       "      <td>105</td>\n",
       "      <td>1180.597489</td>\n",
       "      <td>NA</td>\n",
       "      <td>True</td>\n",
       "    </tr>\n",
       "    <tr>\n",
       "      <th>1</th>\n",
       "      <td>PN glomerulus DA1 27296 BH</td>\n",
       "      <td>27295</td>\n",
       "      <td>9969</td>\n",
       "      <td>463</td>\n",
       "      <td>211</td>\n",
       "      <td>218</td>\n",
       "      <td>58</td>\n",
       "      <td>1590.676589</td>\n",
       "      <td>NA</td>\n",
       "      <td>True</td>\n",
       "    </tr>\n",
       "  </tbody>\n",
       "</table>\n",
       "</div>"
      ],
      "text/plain": [
       "<class 'pymaid.core.CatmaidNeuronList'> of 2 neurons \n",
       "                   neuron_name skeleton_id  n_nodes  n_connectors  \\\n",
       "0  PN glomerulus DA1 57312 LK       57311     4874           421   \n",
       "1  PN glomerulus DA1 27296 BH       27295     9969           463   \n",
       "\n",
       "   n_branch_nodes  n_end_nodes  open_ends  cable_length review_status  soma  \n",
       "0             156          163        105   1180.597489            NA  True  \n",
       "1             211          218         58   1590.676589            NA  True  "
      ]
     },
     "execution_count": 51,
     "metadata": {},
     "output_type": "execute_result"
    }
   ],
   "source": [
    "# Remove item(s)\n",
    "subset = nl - nl.skid[16]\n",
    "subset"
   ]
  }
 ],
 "metadata": {
  "celltoolbar": "Raw Cell Format",
  "kernelspec": {
   "display_name": "Python 3",
   "language": "python",
   "name": "python3"
  },
  "language_info": {
   "codemirror_mode": {
    "name": "ipython",
    "version": 3
   },
   "file_extension": ".py",
   "mimetype": "text/x-python",
   "name": "python",
   "nbconvert_exporter": "python",
   "pygments_lexer": "ipython3",
   "version": "3.5.3"
  }
 },
 "nbformat": 4,
 "nbformat_minor": 2
}
