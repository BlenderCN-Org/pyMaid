{
 "cells": [
  {
   "cell_type": "raw",
   "metadata": {
    "raw_mimetype": "text/restructuredtext"
   },
   "source": [
    "Basic connectivity analyses\n",
    "+++++++++++++++++++++++++++\n",
    "\n",
    "Getting connectivity information for a set of neurons is pretty straight forward. You can get connectivity tables, edges between neurons, connectors between neurons. Make sure to check out the :ref:`API <api_con>`.\n",
    "\n",
    "In this example, we will focus on fetching and visualising basic connectivity data. Check out the advanced tutorial for e.g. compartmentalizing connectivity."
   ]
  },
  {
   "cell_type": "code",
   "execution_count": 2,
   "metadata": {},
   "outputs": [
    {
     "name": "stderr",
     "output_type": "stream",
     "text": [
      "INFO  : Global CATMAID instance set. (pymaid)\n"
     ]
    }
   ],
   "source": [
    "import pymaid\n",
    "\n",
    "rm = pymaid.CatmaidInstance('server_url', 'http_user', 'http_pw', 'token')"
   ]
  },
  {
   "cell_type": "raw",
   "metadata": {
    "raw_mimetype": "text/restructuredtext"
   },
   "source": [
    "Let's start by fetching a connectivity table for some olfactory projection neurons:"
   ]
  },
  {
   "cell_type": "code",
   "execution_count": 14,
   "metadata": {},
   "outputs": [
    {
     "name": "stderr",
     "output_type": "stream",
     "text": [
      "INFO  : Found 8 skeletons with matching annotation(s) (pymaid)\n",
      "INFO  : Fetching connectivity table for 8 neurons (pymaid)\n",
      "INFO  : Done. Found 94 pre-, 564 postsynaptic and 0 gap junction-connected neurons (pymaid)\n"
     ]
    },
    {
     "data": {
      "text/html": [
       "<div>\n",
       "<style scoped>\n",
       "    .dataframe tbody tr th:only-of-type {\n",
       "        vertical-align: middle;\n",
       "    }\n",
       "\n",
       "    .dataframe tbody tr th {\n",
       "        vertical-align: top;\n",
       "    }\n",
       "\n",
       "    .dataframe thead th {\n",
       "        text-align: right;\n",
       "    }\n",
       "</style>\n",
       "<table border=\"1\" class=\"dataframe\">\n",
       "  <thead>\n",
       "    <tr style=\"text-align: right;\">\n",
       "      <th></th>\n",
       "      <th>neuron_name</th>\n",
       "      <th>skeleton_id</th>\n",
       "      <th>num_nodes</th>\n",
       "      <th>relation</th>\n",
       "      <th>755022</th>\n",
       "      <th>2863104</th>\n",
       "      <th>27295</th>\n",
       "      <th>61221</th>\n",
       "      <th>57353</th>\n",
       "      <th>57323</th>\n",
       "      <th>57381</th>\n",
       "      <th>57311</th>\n",
       "      <th>total</th>\n",
       "    </tr>\n",
       "  </thead>\n",
       "  <tbody>\n",
       "    <tr>\n",
       "      <th>0</th>\n",
       "      <td>AV4 [LH.R] 1803749 CH RJVR Vegito - check</td>\n",
       "      <td>1803748</td>\n",
       "      <td>6322</td>\n",
       "      <td>upstream</td>\n",
       "      <td>17</td>\n",
       "      <td>10</td>\n",
       "      <td>7</td>\n",
       "      <td>8</td>\n",
       "      <td>4</td>\n",
       "      <td>21</td>\n",
       "      <td>3</td>\n",
       "      <td>8</td>\n",
       "      <td>78.0</td>\n",
       "    </tr>\n",
       "    <tr>\n",
       "      <th>1</th>\n",
       "      <td>AV4b1#1 1853423 Accursed  RJVR - check FML</td>\n",
       "      <td>1853423</td>\n",
       "      <td>10253</td>\n",
       "      <td>upstream</td>\n",
       "      <td>18</td>\n",
       "      <td>7</td>\n",
       "      <td>6</td>\n",
       "      <td>6</td>\n",
       "      <td>4</td>\n",
       "      <td>12</td>\n",
       "      <td>6</td>\n",
       "      <td>8</td>\n",
       "      <td>67.0</td>\n",
       "    </tr>\n",
       "    <tr>\n",
       "      <th>2</th>\n",
       "      <td>AV4 [LH.R] 1095415 ARH RJVR Static</td>\n",
       "      <td>1095414</td>\n",
       "      <td>3949</td>\n",
       "      <td>upstream</td>\n",
       "      <td>16</td>\n",
       "      <td>5</td>\n",
       "      <td>12</td>\n",
       "      <td>9</td>\n",
       "      <td>1</td>\n",
       "      <td>9</td>\n",
       "      <td>2</td>\n",
       "      <td>9</td>\n",
       "      <td>63.0</td>\n",
       "    </tr>\n",
       "    <tr>\n",
       "      <th>3</th>\n",
       "      <td>AV4 [LH.R] 1911125 FML PS RJVR</td>\n",
       "      <td>1911124</td>\n",
       "      <td>4327</td>\n",
       "      <td>upstream</td>\n",
       "      <td>4</td>\n",
       "      <td>7</td>\n",
       "      <td>7</td>\n",
       "      <td>4</td>\n",
       "      <td>2</td>\n",
       "      <td>4</td>\n",
       "      <td>0</td>\n",
       "      <td>3</td>\n",
       "      <td>31.0</td>\n",
       "    </tr>\n",
       "    <tr>\n",
       "      <th>4</th>\n",
       "      <td>AV4 [LH.R] 1812366 PS DA1 downstream</td>\n",
       "      <td>1812365</td>\n",
       "      <td>2839</td>\n",
       "      <td>upstream</td>\n",
       "      <td>8</td>\n",
       "      <td>2</td>\n",
       "      <td>2</td>\n",
       "      <td>1</td>\n",
       "      <td>1</td>\n",
       "      <td>5</td>\n",
       "      <td>1</td>\n",
       "      <td>2</td>\n",
       "      <td>22.0</td>\n",
       "    </tr>\n",
       "  </tbody>\n",
       "</table>\n",
       "</div>"
      ],
      "text/plain": [
       "                                  neuron_name skeleton_id num_nodes  relation  \\\n",
       "0   AV4 [LH.R] 1803749 CH RJVR Vegito - check     1803748      6322  upstream   \n",
       "1  AV4b1#1 1853423 Accursed  RJVR - check FML     1853423     10253  upstream   \n",
       "2          AV4 [LH.R] 1095415 ARH RJVR Static     1095414      3949  upstream   \n",
       "3              AV4 [LH.R] 1911125 FML PS RJVR     1911124      4327  upstream   \n",
       "4        AV4 [LH.R] 1812366 PS DA1 downstream     1812365      2839  upstream   \n",
       "\n",
       "  755022 2863104 27295 61221 57353 57323 57381 57311  total  \n",
       "0     17      10     7     8     4    21     3     8   78.0  \n",
       "1     18       7     6     6     4    12     6     8   67.0  \n",
       "2     16       5    12     9     1     9     2     9   63.0  \n",
       "3      4       7     7     4     2     4     0     3   31.0  \n",
       "4      8       2     2     1     1     5     1     2   22.0  "
      ]
     },
     "execution_count": 14,
     "metadata": {},
     "output_type": "execute_result"
    }
   ],
   "source": [
    "pns = pymaid.get_skids_by_annotation('glomerulus DA1 right excitatory')\n",
    "\n",
    "cn_table = pymaid.get_partners(pns)\n",
    "cn_table.head()"
   ]
  },
  {
   "cell_type": "raw",
   "metadata": {
    "raw_mimetype": "text/restructuredtext"
   },
   "source": [
    "This table is similar to the connectivity table in CATMAID: each number-column (e.g. ``755022``) represents connections from/to the neuron with that skeleton ID.\n",
    "\n",
    "Since this is a pandas DataFrame, we can work pandas magic to subset it:"
   ]
  },
  {
   "cell_type": "code",
   "execution_count": 15,
   "metadata": {},
   "outputs": [],
   "source": [
    "downstream_only = cn_table[cn_table.relation == 'downstream']\n",
    "\n",
    "strong_only = cn_table[cn_table.total >= 10]\n",
    "\n",
    "large_only = cn_table[cn_table.num_nodes >= 2000]\n",
    "\n",
    "connected_to_all = cn_table[cn_table[['755022', '2863104', '27295', '61221', '57353', '57323', '57381', '57311']].min(axis=1) != 0]"
   ]
  },
  {
   "cell_type": "raw",
   "metadata": {
    "raw_mimetype": "text/restructuredtext"
   },
   "source": [
    "Make sure to also check out :func:`pymaid.get_partners` documenation too.\n",
    "\n",
    "Quick visualizations\n",
    "====================\n",
    "\n",
    "As example for a quick visualization, we will use the excellent library `seaborn <http://seaborn.pydata.org/>`_ to plot a heatmap of an adjacency matrix.\n",
    "\n",
    "First, get the adjacency matrix between our projection neurons and their strong downstream partners:"
   ]
  },
  {
   "cell_type": "code",
   "execution_count": 17,
   "metadata": {},
   "outputs": [
    {
     "name": "stderr",
     "output_type": "stream",
     "text": [
      "INFO  : Retrieving and filtering connectivity... (pymaid)\n",
      "INFO  : Finished! (pymaid)\n"
     ]
    },
    {
     "data": {
      "text/html": [
       "<div>\n",
       "<style scoped>\n",
       "    .dataframe tbody tr th:only-of-type {\n",
       "        vertical-align: middle;\n",
       "    }\n",
       "\n",
       "    .dataframe tbody tr th {\n",
       "        vertical-align: top;\n",
       "    }\n",
       "\n",
       "    .dataframe thead th {\n",
       "        text-align: right;\n",
       "    }\n",
       "</style>\n",
       "<table border=\"1\" class=\"dataframe\">\n",
       "  <thead>\n",
       "    <tr style=\"text-align: right;\">\n",
       "      <th></th>\n",
       "      <th>1811442</th>\n",
       "      <th>1870230</th>\n",
       "      <th>1803748</th>\n",
       "      <th>488055</th>\n",
       "      <th>1853423</th>\n",
       "      <th>6762450</th>\n",
       "      <th>1812558</th>\n",
       "      <th>1095414</th>\n",
       "      <th>1911124</th>\n",
       "      <th>1796364</th>\n",
       "      <th>...</th>\n",
       "      <th>1811394</th>\n",
       "      <th>60445</th>\n",
       "      <th>9271871</th>\n",
       "      <th>424553</th>\n",
       "      <th>4205169</th>\n",
       "      <th>1803929</th>\n",
       "      <th>1804938</th>\n",
       "      <th>1415926</th>\n",
       "      <th>3828811</th>\n",
       "      <th>55153</th>\n",
       "    </tr>\n",
       "  </thead>\n",
       "  <tbody>\n",
       "    <tr>\n",
       "      <th>755022</th>\n",
       "      <td>29.0</td>\n",
       "      <td>19.0</td>\n",
       "      <td>10.0</td>\n",
       "      <td>15.0</td>\n",
       "      <td>8.0</td>\n",
       "      <td>15.0</td>\n",
       "      <td>5.0</td>\n",
       "      <td>17.0</td>\n",
       "      <td>13.0</td>\n",
       "      <td>0.0</td>\n",
       "      <td>...</td>\n",
       "      <td>1.0</td>\n",
       "      <td>0.0</td>\n",
       "      <td>0.0</td>\n",
       "      <td>0.0</td>\n",
       "      <td>0.0</td>\n",
       "      <td>0.0</td>\n",
       "      <td>3.0</td>\n",
       "      <td>1.0</td>\n",
       "      <td>0.0</td>\n",
       "      <td>0.0</td>\n",
       "    </tr>\n",
       "    <tr>\n",
       "      <th>2863104</th>\n",
       "      <td>27.0</td>\n",
       "      <td>5.0</td>\n",
       "      <td>15.0</td>\n",
       "      <td>15.0</td>\n",
       "      <td>11.0</td>\n",
       "      <td>18.0</td>\n",
       "      <td>6.0</td>\n",
       "      <td>8.0</td>\n",
       "      <td>15.0</td>\n",
       "      <td>0.0</td>\n",
       "      <td>...</td>\n",
       "      <td>0.0</td>\n",
       "      <td>2.0</td>\n",
       "      <td>0.0</td>\n",
       "      <td>0.0</td>\n",
       "      <td>10.0</td>\n",
       "      <td>2.0</td>\n",
       "      <td>0.0</td>\n",
       "      <td>0.0</td>\n",
       "      <td>0.0</td>\n",
       "      <td>10.0</td>\n",
       "    </tr>\n",
       "    <tr>\n",
       "      <th>27295</th>\n",
       "      <td>13.0</td>\n",
       "      <td>10.0</td>\n",
       "      <td>10.0</td>\n",
       "      <td>16.0</td>\n",
       "      <td>12.0</td>\n",
       "      <td>12.0</td>\n",
       "      <td>29.0</td>\n",
       "      <td>8.0</td>\n",
       "      <td>4.0</td>\n",
       "      <td>0.0</td>\n",
       "      <td>...</td>\n",
       "      <td>4.0</td>\n",
       "      <td>1.0</td>\n",
       "      <td>0.0</td>\n",
       "      <td>0.0</td>\n",
       "      <td>0.0</td>\n",
       "      <td>3.0</td>\n",
       "      <td>2.0</td>\n",
       "      <td>0.0</td>\n",
       "      <td>0.0</td>\n",
       "      <td>0.0</td>\n",
       "    </tr>\n",
       "    <tr>\n",
       "      <th>61221</th>\n",
       "      <td>23.0</td>\n",
       "      <td>7.0</td>\n",
       "      <td>13.0</td>\n",
       "      <td>15.0</td>\n",
       "      <td>15.0</td>\n",
       "      <td>4.0</td>\n",
       "      <td>4.0</td>\n",
       "      <td>16.0</td>\n",
       "      <td>12.0</td>\n",
       "      <td>0.0</td>\n",
       "      <td>...</td>\n",
       "      <td>0.0</td>\n",
       "      <td>1.0</td>\n",
       "      <td>0.0</td>\n",
       "      <td>0.0</td>\n",
       "      <td>0.0</td>\n",
       "      <td>2.0</td>\n",
       "      <td>0.0</td>\n",
       "      <td>1.0</td>\n",
       "      <td>0.0</td>\n",
       "      <td>0.0</td>\n",
       "    </tr>\n",
       "    <tr>\n",
       "      <th>57353</th>\n",
       "      <td>2.0</td>\n",
       "      <td>23.0</td>\n",
       "      <td>3.0</td>\n",
       "      <td>3.0</td>\n",
       "      <td>5.0</td>\n",
       "      <td>4.0</td>\n",
       "      <td>5.0</td>\n",
       "      <td>4.0</td>\n",
       "      <td>2.0</td>\n",
       "      <td>0.0</td>\n",
       "      <td>...</td>\n",
       "      <td>1.0</td>\n",
       "      <td>5.0</td>\n",
       "      <td>10.0</td>\n",
       "      <td>10.0</td>\n",
       "      <td>0.0</td>\n",
       "      <td>1.0</td>\n",
       "      <td>0.0</td>\n",
       "      <td>0.0</td>\n",
       "      <td>10.0</td>\n",
       "      <td>0.0</td>\n",
       "    </tr>\n",
       "  </tbody>\n",
       "</table>\n",
       "<p>5 rows × 145 columns</p>\n",
       "</div>"
      ],
      "text/plain": [
       "         1811442  1870230  1803748  488055  1853423  6762450  1812558  \\\n",
       "755022      29.0     19.0     10.0    15.0      8.0     15.0      5.0   \n",
       "2863104     27.0      5.0     15.0    15.0     11.0     18.0      6.0   \n",
       "27295       13.0     10.0     10.0    16.0     12.0     12.0     29.0   \n",
       "61221       23.0      7.0     13.0    15.0     15.0      4.0      4.0   \n",
       "57353        2.0     23.0      3.0     3.0      5.0      4.0      5.0   \n",
       "\n",
       "         1095414  1911124  1796364  ...    1811394  60445  9271871  424553  \\\n",
       "755022      17.0     13.0      0.0  ...        1.0    0.0      0.0     0.0   \n",
       "2863104      8.0     15.0      0.0  ...        0.0    2.0      0.0     0.0   \n",
       "27295        8.0      4.0      0.0  ...        4.0    1.0      0.0     0.0   \n",
       "61221       16.0     12.0      0.0  ...        0.0    1.0      0.0     0.0   \n",
       "57353        4.0      2.0      0.0  ...        1.0    5.0     10.0    10.0   \n",
       "\n",
       "         4205169  1803929  1804938  1415926  3828811  55153  \n",
       "755022       0.0      0.0      3.0      1.0      0.0    0.0  \n",
       "2863104     10.0      2.0      0.0      0.0      0.0   10.0  \n",
       "27295        0.0      3.0      2.0      0.0      0.0    0.0  \n",
       "61221        0.0      2.0      0.0      1.0      0.0    0.0  \n",
       "57353        0.0      1.0      0.0      0.0     10.0    0.0  \n",
       "\n",
       "[5 rows x 145 columns]"
      ]
     },
     "execution_count": 17,
     "metadata": {},
     "output_type": "execute_result"
    }
   ],
   "source": [
    "adj_mat = pymaid.adjacency_matrix(pns, downstream_only[downstream_only.total >= 10])\n",
    "adj_mat.head()"
   ]
  },
  {
   "cell_type": "raw",
   "metadata": {
    "raw_mimetype": "text/restructuredtext"
   },
   "source": [
    "Now we will use seaborn's `clustermap <https://seaborn.pydata.org/generated/seaborn.clustermap.html>`_ to visualize this adjacency matrix:"
   ]
  },
  {
   "cell_type": "code",
   "execution_count": 19,
   "metadata": {},
   "outputs": [
    {
     "data": {
      "image/png": "[encoded data removed]",
      "text/plain": [
       "<Figure size 720x720 with 4 Axes>"
      ]
     },
     "metadata": {},
     "output_type": "display_data"
    }
   ],
   "source": [
    "import seaborn as sns\n",
    "import matplotlib.pyplot as plt\n",
    "\n",
    "cm = sns.clustermap(adj_mat,\n",
    "                    cmap='Greys')\n",
    "\n",
    "plt.show()"
   ]
  },
  {
   "cell_type": "raw",
   "metadata": {
    "raw_mimetype": "text/restructuredtext"
   },
   "source": [
    "Exporting connectivity\n",
    "======================\n",
    "\n",
    "There are several excellent tools out there to visualize and analyze connectivity graphs. Here, we will demonstrate how to export connectivity to a Python library, `NetworkX <https://networkx.github.io/>`_."
   ]
  },
  {
   "cell_type": "code",
   "execution_count": null,
   "metadata": {},
   "outputs": [],
   "source": [
    "g = pymaid.network2nx(adj_mat)"
   ]
  },
  {
   "cell_type": "raw",
   "metadata": {
    "raw_mimetype": "text/restructuredtext"
   },
   "source": [
    "``g`` is a NetworkX DiGraph. We can use that to export the graph to all kinds of different `formats <https://networkx.github.io/documentation/stable/reference/readwrite/index.html>`_. \n",
    "\n",
    "For demonstration, let's export to the GraphML format which is widely used."
   ]
  },
  {
   "cell_type": "code",
   "execution_count": null,
   "metadata": {},
   "outputs": [],
   "source": [
    "import networkx as nx\n",
    "\n",
    "nx.write_graphml(g, 'graph.graphml')"
   ]
  }
 ],
 "metadata": {
  "celltoolbar": "Raw Cell Format",
  "kernelspec": {
   "display_name": "Python 3",
   "language": "python",
   "name": "python3"
  },
  "language_info": {
   "codemirror_mode": {
    "name": "ipython",
    "version": 3
   },
   "file_extension": ".py",
   "mimetype": "text/x-python",
   "name": "python",
   "nbconvert_exporter": "python",
   "pygments_lexer": "ipython3",
   "version": "3.5.3"
  }
 },
 "nbformat": 4,
 "nbformat_minor": 2
}
