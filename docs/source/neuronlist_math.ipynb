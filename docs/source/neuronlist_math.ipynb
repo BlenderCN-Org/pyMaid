{
 "cells": [
  {
   "cell_type": "raw",
   "metadata": {
    "raw_mimetype": "text/restructuredtext"
   },
   "source": [
    ".. _neuronlist_math:\n",
    "\n",
    "CatmaidNeuronList math\n",
    "**********************\n",
    ":class:`~pymaid.CatmaidNeuronList` implement some of the basic arithmetic and bitwise comparison operators that you can apply to ``lists`` or ``numpy.arrays``. The following examples will illustrate that:"
   ]
  },
  {
   "cell_type": "raw",
   "metadata": {
    "raw_mimetype": "text/restructuredtext"
   },
   "source": [
    "As per usual, we need to get some neurons first:"
   ]
  },
  {
   "cell_type": "code",
   "execution_count": 15,
   "metadata": {},
   "outputs": [
    {
     "name": "stderr",
     "output_type": "stream",
     "text": [
      "INFO  : Found 19 skeletons with matching annotation(s) (pymaid)\n"
     ]
    },
    {
     "data": {
      "text/html": [
       "<div>\n",
       "<style scoped>\n",
       "    .dataframe tbody tr th:only-of-type {\n",
       "        vertical-align: middle;\n",
       "    }\n",
       "\n",
       "    .dataframe tbody tr th {\n",
       "        vertical-align: top;\n",
       "    }\n",
       "\n",
       "    .dataframe thead th {\n",
       "        text-align: right;\n",
       "    }\n",
       "</style>\n",
       "<table border=\"1\" class=\"dataframe\">\n",
       "  <thead>\n",
       "    <tr style=\"text-align: right;\">\n",
       "      <th></th>\n",
       "      <th>neuron_name</th>\n",
       "      <th>skeleton_id</th>\n",
       "      <th>n_nodes</th>\n",
       "      <th>n_connectors</th>\n",
       "      <th>n_branch_nodes</th>\n",
       "      <th>n_end_nodes</th>\n",
       "      <th>open_ends</th>\n",
       "      <th>cable_length</th>\n",
       "      <th>review_status</th>\n",
       "      <th>soma</th>\n",
       "    </tr>\n",
       "  </thead>\n",
       "  <tbody>\n",
       "    <tr>\n",
       "      <th>0</th>\n",
       "      <td>PN glomerulus DA1 57382 ML</td>\n",
       "      <td>57381</td>\n",
       "      <td>7729</td>\n",
       "      <td>360</td>\n",
       "      <td>153</td>\n",
       "      <td>162</td>\n",
       "      <td>71</td>\n",
       "      <td>1215.920599</td>\n",
       "      <td>NA</td>\n",
       "      <td>True</td>\n",
       "    </tr>\n",
       "    <tr>\n",
       "      <th>1</th>\n",
       "      <td>AL.L(DA1) -{mALT}-&gt; CAL.L-LH.L 2379518 PN022 D...</td>\n",
       "      <td>2379517</td>\n",
       "      <td>4657</td>\n",
       "      <td>411</td>\n",
       "      <td>86</td>\n",
       "      <td>90</td>\n",
       "      <td>31</td>\n",
       "      <td>836.067253</td>\n",
       "      <td>NA</td>\n",
       "      <td>True</td>\n",
       "    </tr>\n",
       "    <tr>\n",
       "      <th>2</th>\n",
       "      <td>PN glomerulus DA1 57312 LK</td>\n",
       "      <td>57311</td>\n",
       "      <td>4882</td>\n",
       "      <td>429</td>\n",
       "      <td>157</td>\n",
       "      <td>164</td>\n",
       "      <td>105</td>\n",
       "      <td>1182.102458</td>\n",
       "      <td>NA</td>\n",
       "      <td>True</td>\n",
       "    </tr>\n",
       "    <tr>\n",
       "      <th>3</th>\n",
       "      <td>PN glomerulus vDA1 mlALT 2334842 RJVR mlALTed ...</td>\n",
       "      <td>2334841</td>\n",
       "      <td>4447</td>\n",
       "      <td>578</td>\n",
       "      <td>179</td>\n",
       "      <td>187</td>\n",
       "      <td>32</td>\n",
       "      <td>1296.686490</td>\n",
       "      <td>NA</td>\n",
       "      <td>True</td>\n",
       "    </tr>\n",
       "    <tr>\n",
       "      <th>4</th>\n",
       "      <td>PN glomerulus DA1 57316 ML 2863105</td>\n",
       "      <td>2863104</td>\n",
       "      <td>5221</td>\n",
       "      <td>437</td>\n",
       "      <td>149</td>\n",
       "      <td>157</td>\n",
       "      <td>63</td>\n",
       "      <td>1109.886699</td>\n",
       "      <td>NA</td>\n",
       "      <td>True</td>\n",
       "    </tr>\n",
       "  </tbody>\n",
       "</table>\n",
       "</div>"
      ],
      "text/plain": [
       "                                         neuron_name skeleton_id  n_nodes  \\\n",
       "0                         PN glomerulus DA1 57382 ML       57381     7729   \n",
       "1  AL.L(DA1) -{mALT}-> CAL.L-LH.L 2379518 PN022 D...     2379517     4657   \n",
       "2                         PN glomerulus DA1 57312 LK       57311     4882   \n",
       "3  PN glomerulus vDA1 mlALT 2334842 RJVR mlALTed ...     2334841     4447   \n",
       "4                 PN glomerulus DA1 57316 ML 2863105     2863104     5221   \n",
       "\n",
       "   n_connectors  n_branch_nodes  n_end_nodes  open_ends  cable_length  \\\n",
       "0           360             153          162         71   1215.920599   \n",
       "1           411              86           90         31    836.067253   \n",
       "2           429             157          164        105   1182.102458   \n",
       "3           578             179          187         32   1296.686490   \n",
       "4           437             149          157         63   1109.886699   \n",
       "\n",
       "  review_status  soma  \n",
       "0            NA  True  \n",
       "1            NA  True  \n",
       "2            NA  True  \n",
       "3            NA  True  \n",
       "4            NA  True  "
      ]
     },
     "execution_count": 15,
     "metadata": {},
     "output_type": "execute_result"
    }
   ],
   "source": [
    "nl = pymaid.get_neurons('annotation:glomerulus DA1')\n",
    "nl.head()"
   ]
  },
  {
   "cell_type": "raw",
   "metadata": {
    "raw_mimetype": "text/restructuredtext"
   },
   "source": [
    "Addition"
   ]
  },
  {
   "cell_type": "code",
   "execution_count": 6,
   "metadata": {},
   "outputs": [
    {
     "data": {
      "text/plain": [
       "[1, 3]"
      ]
     },
     "execution_count": 6,
     "metadata": {},
     "output_type": "execute_result"
    }
   ],
   "source": [
    "a = [1]\n",
    "b = [3]\n",
    "a + b"
   ]
  },
  {
   "cell_type": "code",
   "execution_count": 7,
   "metadata": {},
   "outputs": [
    {
     "data": {
      "text/html": [
       "<div>\n",
       "<style scoped>\n",
       "    .dataframe tbody tr th:only-of-type {\n",
       "        vertical-align: middle;\n",
       "    }\n",
       "\n",
       "    .dataframe tbody tr th {\n",
       "        vertical-align: top;\n",
       "    }\n",
       "\n",
       "    .dataframe thead th {\n",
       "        text-align: right;\n",
       "    }\n",
       "</style>\n",
       "<table border=\"1\" class=\"dataframe\">\n",
       "  <thead>\n",
       "    <tr style=\"text-align: right;\">\n",
       "      <th></th>\n",
       "      <th>neuron_name</th>\n",
       "      <th>skeleton_id</th>\n",
       "      <th>n_nodes</th>\n",
       "      <th>n_connectors</th>\n",
       "      <th>n_branch_nodes</th>\n",
       "      <th>n_end_nodes</th>\n",
       "      <th>open_ends</th>\n",
       "      <th>cable_length</th>\n",
       "      <th>review_status</th>\n",
       "      <th>soma</th>\n",
       "    </tr>\n",
       "  </thead>\n",
       "  <tbody>\n",
       "    <tr>\n",
       "      <th>0</th>\n",
       "      <td>PN glomerulus DA1 57382 ML</td>\n",
       "      <td>57381</td>\n",
       "      <td>7729</td>\n",
       "      <td>360</td>\n",
       "      <td>153</td>\n",
       "      <td>162</td>\n",
       "      <td>71</td>\n",
       "      <td>1215.920599</td>\n",
       "      <td>NA</td>\n",
       "      <td>True</td>\n",
       "    </tr>\n",
       "    <tr>\n",
       "      <th>1</th>\n",
       "      <td>AL.L(DA1) -{mALT}-&gt; CAL.L-LH.L 2379518 PN022 D...</td>\n",
       "      <td>2379517</td>\n",
       "      <td>4657</td>\n",
       "      <td>411</td>\n",
       "      <td>86</td>\n",
       "      <td>90</td>\n",
       "      <td>31</td>\n",
       "      <td>836.067253</td>\n",
       "      <td>NA</td>\n",
       "      <td>True</td>\n",
       "    </tr>\n",
       "    <tr>\n",
       "      <th>2</th>\n",
       "      <td>PN glomerulus DA1 57312 LK</td>\n",
       "      <td>57311</td>\n",
       "      <td>4882</td>\n",
       "      <td>429</td>\n",
       "      <td>157</td>\n",
       "      <td>164</td>\n",
       "      <td>105</td>\n",
       "      <td>1182.102458</td>\n",
       "      <td>NA</td>\n",
       "      <td>True</td>\n",
       "    </tr>\n",
       "  </tbody>\n",
       "</table>\n",
       "</div>"
      ],
      "text/plain": [
       "<class 'pymaid.core.CatmaidNeuronList'> of 3 neurons \n",
       "                                          neuron_name skeleton_id  n_nodes  \\\n",
       "0                         PN glomerulus DA1 57382 ML       57381     7729   \n",
       "1  AL.L(DA1) -{mALT}-> CAL.L-LH.L 2379518 PN022 D...     2379517     4657   \n",
       "2                         PN glomerulus DA1 57312 LK       57311     4882   \n",
       "\n",
       "   n_connectors  n_branch_nodes  n_end_nodes  open_ends  cable_length  \\\n",
       "0           360             153          162         71   1215.920599   \n",
       "1           411              86           90         31    836.067253   \n",
       "2           429             157          164        105   1182.102458   \n",
       "\n",
       "  review_status  soma  \n",
       "0            NA  True  \n",
       "1            NA  True  \n",
       "2            NA  True  "
      ]
     },
     "execution_count": 7,
     "metadata": {},
     "output_type": "execute_result"
    }
   ],
   "source": [
    "a = nl[0]\n",
    "b = nl[[1, 2]]\n",
    "a + b"
   ]
  },
  {
   "cell_type": "raw",
   "metadata": {
    "raw_mimetype": "text/restructuredtext"
   },
   "source": [
    "Substraction"
   ]
  },
  {
   "cell_type": "code",
   "execution_count": 11,
   "metadata": {},
   "outputs": [
    {
     "data": {
      "text/plain": [
       "[1, 2]"
      ]
     },
     "execution_count": 11,
     "metadata": {},
     "output_type": "execute_result"
    }
   ],
   "source": [
    "a = [1, 2, 3]\n",
    "b = 2\n",
    "a.pop(b)\n",
    "a"
   ]
  },
  {
   "cell_type": "code",
   "execution_count": 12,
   "metadata": {},
   "outputs": [
    {
     "data": {
      "text/html": [
       "<div>\n",
       "<style scoped>\n",
       "    .dataframe tbody tr th:only-of-type {\n",
       "        vertical-align: middle;\n",
       "    }\n",
       "\n",
       "    .dataframe tbody tr th {\n",
       "        vertical-align: top;\n",
       "    }\n",
       "\n",
       "    .dataframe thead th {\n",
       "        text-align: right;\n",
       "    }\n",
       "</style>\n",
       "<table border=\"1\" class=\"dataframe\">\n",
       "  <thead>\n",
       "    <tr style=\"text-align: right;\">\n",
       "      <th></th>\n",
       "      <th>neuron_name</th>\n",
       "      <th>skeleton_id</th>\n",
       "      <th>n_nodes</th>\n",
       "      <th>n_connectors</th>\n",
       "      <th>n_branch_nodes</th>\n",
       "      <th>n_end_nodes</th>\n",
       "      <th>open_ends</th>\n",
       "      <th>cable_length</th>\n",
       "      <th>review_status</th>\n",
       "      <th>soma</th>\n",
       "    </tr>\n",
       "  </thead>\n",
       "  <tbody>\n",
       "    <tr>\n",
       "      <th>0</th>\n",
       "      <td>PN glomerulus DA1 57382 ML</td>\n",
       "      <td>57381</td>\n",
       "      <td>7729</td>\n",
       "      <td>360</td>\n",
       "      <td>153</td>\n",
       "      <td>162</td>\n",
       "      <td>71</td>\n",
       "      <td>1215.920599</td>\n",
       "      <td>NA</td>\n",
       "      <td>True</td>\n",
       "    </tr>\n",
       "    <tr>\n",
       "      <th>1</th>\n",
       "      <td>AL.L(DA1) -{mALT}-&gt; CAL.L-LH.L 2379518 PN022 D...</td>\n",
       "      <td>2379517</td>\n",
       "      <td>4657</td>\n",
       "      <td>411</td>\n",
       "      <td>86</td>\n",
       "      <td>90</td>\n",
       "      <td>31</td>\n",
       "      <td>836.067253</td>\n",
       "      <td>NA</td>\n",
       "      <td>True</td>\n",
       "    </tr>\n",
       "  </tbody>\n",
       "</table>\n",
       "</div>"
      ],
      "text/plain": [
       "<class 'pymaid.core.CatmaidNeuronList'> of 2 neurons \n",
       "                                          neuron_name skeleton_id  n_nodes  \\\n",
       "0                         PN glomerulus DA1 57382 ML       57381     7729   \n",
       "1  AL.L(DA1) -{mALT}-> CAL.L-LH.L 2379518 PN022 D...     2379517     4657   \n",
       "\n",
       "   n_connectors  n_branch_nodes  n_end_nodes  open_ends  cable_length  \\\n",
       "0           360             153          162         71   1215.920599   \n",
       "1           411              86           90         31    836.067253   \n",
       "\n",
       "  review_status  soma  \n",
       "0            NA  True  \n",
       "1            NA  True  "
      ]
     },
     "execution_count": 12,
     "metadata": {},
     "output_type": "execute_result"
    }
   ],
   "source": [
    "a = nl[[0, 1, 2]]\n",
    "b = nl[2]\n",
    "a - b"
   ]
  },
  {
   "cell_type": "raw",
   "metadata": {
    "raw_mimetype": "text/restructuredtext"
   },
   "source": [
    "Bitwise AND"
   ]
  },
  {
   "cell_type": "code",
   "execution_count": 13,
   "metadata": {},
   "outputs": [
    {
     "data": {
      "text/plain": [
       "{2}"
      ]
     },
     "execution_count": 13,
     "metadata": {},
     "output_type": "execute_result"
    }
   ],
   "source": [
    "a = set([0, 1, 2])\n",
    "b = set([2, 3, 4])\n",
    "a & b"
   ]
  },
  {
   "cell_type": "code",
   "execution_count": 17,
   "metadata": {},
   "outputs": [
    {
     "data": {
      "text/html": [
       "<div>\n",
       "<style scoped>\n",
       "    .dataframe tbody tr th:only-of-type {\n",
       "        vertical-align: middle;\n",
       "    }\n",
       "\n",
       "    .dataframe tbody tr th {\n",
       "        vertical-align: top;\n",
       "    }\n",
       "\n",
       "    .dataframe thead th {\n",
       "        text-align: right;\n",
       "    }\n",
       "</style>\n",
       "<table border=\"1\" class=\"dataframe\">\n",
       "  <thead>\n",
       "    <tr style=\"text-align: right;\">\n",
       "      <th></th>\n",
       "      <th>neuron_name</th>\n",
       "      <th>skeleton_id</th>\n",
       "      <th>n_nodes</th>\n",
       "      <th>n_connectors</th>\n",
       "      <th>n_branch_nodes</th>\n",
       "      <th>n_end_nodes</th>\n",
       "      <th>open_ends</th>\n",
       "      <th>cable_length</th>\n",
       "      <th>review_status</th>\n",
       "      <th>soma</th>\n",
       "    </tr>\n",
       "  </thead>\n",
       "  <tbody>\n",
       "    <tr>\n",
       "      <th>0</th>\n",
       "      <td>PN glomerulus DA1 57312 LK</td>\n",
       "      <td>57311</td>\n",
       "      <td>4882</td>\n",
       "      <td>429</td>\n",
       "      <td>157</td>\n",
       "      <td>164</td>\n",
       "      <td>105</td>\n",
       "      <td>1182.102458</td>\n",
       "      <td>NA</td>\n",
       "      <td>True</td>\n",
       "    </tr>\n",
       "  </tbody>\n",
       "</table>\n",
       "</div>"
      ],
      "text/plain": [
       "<class 'pymaid.core.CatmaidNeuronList'> of 1 neurons \n",
       "                   neuron_name skeleton_id  n_nodes  n_connectors  \\\n",
       "0  PN glomerulus DA1 57312 LK       57311     4882           429   \n",
       "\n",
       "   n_branch_nodes  n_end_nodes  open_ends  cable_length review_status  soma  \n",
       "0             157          164        105   1182.102458            NA  True  "
      ]
     },
     "execution_count": 17,
     "metadata": {},
     "output_type": "execute_result"
    }
   ],
   "source": [
    "a = nl[[0, 1, 2]]\n",
    "b = nl[[2, 3, 4]]\n",
    "a & b"
   ]
  },
  {
   "cell_type": "raw",
   "metadata": {
    "raw_mimetype": "text/restructuredtext"
   },
   "source": [
    "All of the above also work with skeleton IDs as one of the operators"
   ]
  },
  {
   "cell_type": "code",
   "execution_count": 18,
   "metadata": {},
   "outputs": [
    {
     "data": {
      "text/html": [
       "<div>\n",
       "<style scoped>\n",
       "    .dataframe tbody tr th:only-of-type {\n",
       "        vertical-align: middle;\n",
       "    }\n",
       "\n",
       "    .dataframe tbody tr th {\n",
       "        vertical-align: top;\n",
       "    }\n",
       "\n",
       "    .dataframe thead th {\n",
       "        text-align: right;\n",
       "    }\n",
       "</style>\n",
       "<table border=\"1\" class=\"dataframe\">\n",
       "  <thead>\n",
       "    <tr style=\"text-align: right;\">\n",
       "      <th></th>\n",
       "      <th>neuron_name</th>\n",
       "      <th>skeleton_id</th>\n",
       "      <th>n_nodes</th>\n",
       "      <th>n_connectors</th>\n",
       "      <th>n_branch_nodes</th>\n",
       "      <th>n_end_nodes</th>\n",
       "      <th>open_ends</th>\n",
       "      <th>cable_length</th>\n",
       "      <th>review_status</th>\n",
       "      <th>soma</th>\n",
       "    </tr>\n",
       "  </thead>\n",
       "  <tbody>\n",
       "    <tr>\n",
       "      <th>0</th>\n",
       "      <td>PN glomerulus DA1 57312 LK</td>\n",
       "      <td>57311</td>\n",
       "      <td>4882</td>\n",
       "      <td>429</td>\n",
       "      <td>157</td>\n",
       "      <td>164</td>\n",
       "      <td>105</td>\n",
       "      <td>1182.102458</td>\n",
       "      <td>NA</td>\n",
       "      <td>True</td>\n",
       "    </tr>\n",
       "  </tbody>\n",
       "</table>\n",
       "</div>"
      ],
      "text/plain": [
       "<class 'pymaid.core.CatmaidNeuronList'> of 1 neurons \n",
       "                   neuron_name skeleton_id  n_nodes  n_connectors  \\\n",
       "0  PN glomerulus DA1 57312 LK       57311     4882           429   \n",
       "\n",
       "   n_branch_nodes  n_end_nodes  open_ends  cable_length review_status  soma  \n",
       "0             157          164        105   1182.102458            NA  True  "
      ]
     },
     "execution_count": 18,
     "metadata": {},
     "output_type": "execute_result"
    }
   ],
   "source": [
    "a = nl[[0, 1, 2]]\n",
    "b = nl[[2, 3, 4]]\n",
    "a & b.skeleton_id"
   ]
  },
  {
   "cell_type": "raw",
   "metadata": {
    "raw_mimetype": "text/restructuredtext"
   },
   "source": [
    "A catch\n",
    "+++++++\n",
    "\n",
    "When determining e.g. whether neurons in CatmaidNeuronList ``a`` are also in ``b``, pymaid compares the CatmaidNeuron objects' instances. That means that in some cases ``neuronA != neuronA``. This is best illustrated using examples:"
   ]
  },
  {
   "cell_type": "code",
   "execution_count": 20,
   "metadata": {},
   "outputs": [
    {
     "data": {
      "text/plain": [
       "True"
      ]
     },
     "execution_count": 20,
     "metadata": {},
     "output_type": "execute_result"
    }
   ],
   "source": [
    "a = nl[0]\n",
    "b = nl[0]\n",
    "a == b"
   ]
  },
  {
   "cell_type": "code",
   "execution_count": 30,
   "metadata": {},
   "outputs": [
    {
     "data": {
      "text/plain": [
       "False"
      ]
     },
     "execution_count": 30,
     "metadata": {},
     "output_type": "execute_result"
    }
   ],
   "source": [
    "a = nl[0]\n",
    "b = nl[0].copy()\n",
    "a == b"
   ]
  },
  {
   "cell_type": "raw",
   "metadata": {
    "raw_mimetype": "text/restructuredtext"
   },
   "source": [
    "See how the comparison fails because we've made a copy? This is because it is not the same CatmaidNeuron anymore despite having the exact same attributes (number of nodes, skeleton ID, name, etc). This also bleeds into bitwise comparisons and substractions:"
   ]
  },
  {
   "cell_type": "code",
   "execution_count": 33,
   "metadata": {},
   "outputs": [
    {
     "name": "stderr",
     "output_type": "stream",
     "text": [
      "WARNING : Skeleton IDs overlap but neuron(s) not identical! Bitwise cancelled! Try using .skeleton_id instead. (pymaid)\n"
     ]
    }
   ],
   "source": [
    "a = nl[[0, 1, 2]]\n",
    "b = nl[[2, 3, 4]].copy()\n",
    "a & b"
   ]
  },
  {
   "cell_type": "code",
   "execution_count": 34,
   "metadata": {},
   "outputs": [
    {
     "name": "stderr",
     "output_type": "stream",
     "text": [
      "WARNING : Skeleton ID in neuronlist but neuron not identical! Substraction cancelled! Try using .skeleton_id instead. (pymaid)\n"
     ]
    }
   ],
   "source": [
    "a = nl[[0, 1, 2]]\n",
    "b = nl[0].copy()\n",
    "a - b"
   ]
  },
  {
   "cell_type": "raw",
   "metadata": {
    "raw_mimetype": "text/restructuredtext"
   },
   "source": [
    "The reason why this makes sense is that you might have made changes to the neuron e.g. by pruning or resampling. The fact that neuron ``a`` and ``b`` are not equally anymore is a side effect of this consideration. The workaround is to use the skeleton ID instead:"
   ]
  },
  {
   "cell_type": "code",
   "execution_count": 35,
   "metadata": {},
   "outputs": [
    {
     "data": {
      "text/html": [
       "<div>\n",
       "<style scoped>\n",
       "    .dataframe tbody tr th:only-of-type {\n",
       "        vertical-align: middle;\n",
       "    }\n",
       "\n",
       "    .dataframe tbody tr th {\n",
       "        vertical-align: top;\n",
       "    }\n",
       "\n",
       "    .dataframe thead th {\n",
       "        text-align: right;\n",
       "    }\n",
       "</style>\n",
       "<table border=\"1\" class=\"dataframe\">\n",
       "  <thead>\n",
       "    <tr style=\"text-align: right;\">\n",
       "      <th></th>\n",
       "      <th>neuron_name</th>\n",
       "      <th>skeleton_id</th>\n",
       "      <th>n_nodes</th>\n",
       "      <th>n_connectors</th>\n",
       "      <th>n_branch_nodes</th>\n",
       "      <th>n_end_nodes</th>\n",
       "      <th>open_ends</th>\n",
       "      <th>cable_length</th>\n",
       "      <th>review_status</th>\n",
       "      <th>soma</th>\n",
       "    </tr>\n",
       "  </thead>\n",
       "  <tbody>\n",
       "    <tr>\n",
       "      <th>0</th>\n",
       "      <td>AL.L(DA1) -{mALT}-&gt; CAL.L-LH.L 2379518 PN022 D...</td>\n",
       "      <td>2379517</td>\n",
       "      <td>4657</td>\n",
       "      <td>411</td>\n",
       "      <td>86</td>\n",
       "      <td>90</td>\n",
       "      <td>31</td>\n",
       "      <td>836.067253</td>\n",
       "      <td>NA</td>\n",
       "      <td>True</td>\n",
       "    </tr>\n",
       "    <tr>\n",
       "      <th>1</th>\n",
       "      <td>PN glomerulus DA1 57312 LK</td>\n",
       "      <td>57311</td>\n",
       "      <td>4882</td>\n",
       "      <td>429</td>\n",
       "      <td>157</td>\n",
       "      <td>164</td>\n",
       "      <td>105</td>\n",
       "      <td>1182.102458</td>\n",
       "      <td>NA</td>\n",
       "      <td>True</td>\n",
       "    </tr>\n",
       "  </tbody>\n",
       "</table>\n",
       "</div>"
      ],
      "text/plain": [
       "<class 'pymaid.core.CatmaidNeuronList'> of 2 neurons \n",
       "                                          neuron_name skeleton_id  n_nodes  \\\n",
       "0  AL.L(DA1) -{mALT}-> CAL.L-LH.L 2379518 PN022 D...     2379517     4657   \n",
       "1                         PN glomerulus DA1 57312 LK       57311     4882   \n",
       "\n",
       "   n_connectors  n_branch_nodes  n_end_nodes  open_ends  cable_length  \\\n",
       "0           411              86           90         31    836.067253   \n",
       "1           429             157          164        105   1182.102458   \n",
       "\n",
       "  review_status  soma  \n",
       "0            NA  True  \n",
       "1            NA  True  "
      ]
     },
     "execution_count": 35,
     "metadata": {},
     "output_type": "execute_result"
    }
   ],
   "source": [
    "a = nl[[0, 1, 2]]\n",
    "b = nl[0].copy()\n",
    "a - b.skeleton_id"
   ]
  }
 ],
 "metadata": {
  "celltoolbar": "Raw Cell Format",
  "kernelspec": {
   "display_name": "Python 3",
   "language": "python",
   "name": "python3"
  },
  "language_info": {
   "codemirror_mode": {
    "name": "ipython",
    "version": 3
   },
   "file_extension": ".py",
   "mimetype": "text/x-python",
   "name": "python",
   "nbconvert_exporter": "python",
   "pygments_lexer": "ipython3",
   "version": "3.7.0"
  }
 },
 "nbformat": 4,
 "nbformat_minor": 2
}
